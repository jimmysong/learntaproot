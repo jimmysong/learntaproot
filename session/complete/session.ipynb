{
 "cells": [
  {
   "cell_type": "code",
   "execution_count": 1,
   "id": "b9ac0301",
   "metadata": {
    "slideshow": {
     "slide_type": "skip"
    }
   },
   "outputs": [],
   "source": [
    "############## PLEASE RUN THIS CELL FIRST! ###################\n",
    "\n",
    "# import everything and define a test runner function\n",
    "from importlib import reload\n",
    "from helper import run\n",
    "import ecc, hash, op, script, taproot"
   ]
  },
  {
   "cell_type": "markdown",
   "id": "99cfdba0",
   "metadata": {
    "slideshow": {
     "slide_type": "slide"
    }
   },
   "source": [
    "# Tagged Hashes\n",
    "* Each hash is different so that hashes cannot feasibly collide\n",
    "* There are 10 different contexts, each creating its own set of hashes\n",
    "* The hash is SHA256, but with 64 bytes before the actual bytes being hashed\n",
    "* The 64 bytes are another SHA256 of the tag (e.g. \"BIP340/aux\") repeated twice\n",
    "* H_aux(x) = SHA256(SHA256(\"BIP340/aux\") + SHA256(\"BIP340/aux\") + x)\n"
   ]
  },
  {
   "cell_type": "code",
   "execution_count": 2,
   "id": "3c08f659",
   "metadata": {
    "slideshow": {
     "slide_type": "slide"
    }
   },
   "outputs": [
    {
     "name": "stdout",
     "output_type": "stream",
     "text": [
      "233a1e9353c5f782c96c1c08323fe9fca47ad161ee69d008846b68625c221113\n"
     ]
    }
   ],
   "source": [
    "# Example Tagged Hashes\n",
    "from hash import sha256\n",
    "challenge_tag = b\"BIP0340/challenge\"\n",
    "msg = b\"some message\"\n",
    "challenge_hash = sha256(challenge_tag)\n",
    "hash_challenge = sha256(challenge_hash + challenge_hash + msg)\n",
    "print(hash_challenge.hex())"
   ]
  },
  {
   "cell_type": "markdown",
   "id": "97f836bd",
   "metadata": {
    "slideshow": {
     "slide_type": "slide"
    }
   },
   "source": [
    "### Exercise 1\n",
    "\n",
    "What is the tagged hash \"BIP0340/aux\" of \"hello world\"?\n",
    "\n"
   ]
  },
  {
   "cell_type": "code",
   "execution_count": 3,
   "id": "dc77076d",
   "metadata": {},
   "outputs": [
    {
     "name": "stdout",
     "output_type": "stream",
     "text": [
      "1d721a19d161e978e7436d9e73bb810a0a32cbdffc7a9b29e11713b1940a4126\n"
     ]
    }
   ],
   "source": [
    "# Exercise 1\n",
    "\n",
    "from hash import sha256\n",
    "# define the aux tag and the message\n",
    "aux_tag = b\"BIP0340/aux\"\n",
    "msg = b\"hello world\"\n",
    "# calculate the aux tag hash using sha256\n",
    "aux_tag_hash = sha256(aux_tag)\n",
    "# calculate the hash of the aux sha256 of (aux hash + aux hash + msg)\n",
    "hash_aux = sha256(aux_tag_hash + aux_tag_hash + msg)\n",
    "# print the hash's hex\n",
    "print(hash_aux.hex())"
   ]
  },
  {
   "cell_type": "markdown",
   "id": "778001c8",
   "metadata": {
    "slideshow": {
     "slide_type": "slide"
    }
   },
   "source": [
    "### Exercise 2\n",
    "\n",
    "\n",
    "\n",
    "\n",
    "#### Make [this test](/edit/session/hash.py) pass: `hash.py:HashTest:test_tagged_hash`"
   ]
  },
  {
   "cell_type": "code",
   "execution_count": 4,
   "id": "3adad3d5",
   "metadata": {},
   "outputs": [
    {
     "name": "stderr",
     "output_type": "stream",
     "text": [
      ".\n",
      "----------------------------------------------------------------------\n",
      "Ran 1 test in 0.001s\n",
      "\n",
      "OK\n"
     ]
    }
   ],
   "source": [
    "# Exercise 2\n",
    "\n",
    "reload(hash)\n",
    "run(hash.HashTest('test_tagged_hash'))"
   ]
  },
  {
   "cell_type": "markdown",
   "id": "6f8b6a20",
   "metadata": {
    "slideshow": {
     "slide_type": "slide"
    }
   },
   "source": [
    "# $x$-only keys\n",
    "* Assume $y$ is even\n",
    "* Serialized as 32-bytes\n",
    "* The private key $e$ is flipped to $N-e$ if $y$ is odd\n",
    "* $eG=P=(x,y)$ means $(N-e)G=0-eG=-P=(x,-y)$\n",
    "* Lots of flipping!\n"
   ]
  },
  {
   "cell_type": "code",
   "execution_count": 5,
   "id": "7e7523b3",
   "metadata": {
    "slideshow": {
     "slide_type": "slide"
    }
   },
   "outputs": [
    {
     "name": "stdout",
     "output_type": "stream",
     "text": [
      "f01d6b9018ab421dd410404cb869072065522bf85734008f105cf385a023a80f\n",
      "True\n"
     ]
    }
   ],
   "source": [
    "# Example X-only pubkey\n",
    "from ecc import PrivateKey, S256Point\n",
    "from helper import int_to_big_endian\n",
    "pubkey = PrivateKey(12345).point\n",
    "xonly = int_to_big_endian(pubkey.x.num, 32)\n",
    "print(xonly.hex())\n",
    "pubkey2 = S256Point.parse(xonly)\n",
    "print(pubkey.x == pubkey2.x)"
   ]
  },
  {
   "cell_type": "markdown",
   "id": "7815b0b9",
   "metadata": {
    "slideshow": {
     "slide_type": "slide"
    }
   },
   "source": [
    "### Exercise 3\n",
    "Find the $x$-only pubkey format for the private key with the secret 21,000,000\n",
    "\n"
   ]
  },
  {
   "cell_type": "code",
   "execution_count": 6,
   "id": "e6d4f129",
   "metadata": {},
   "outputs": [
    {
     "name": "stdout",
     "output_type": "stream",
     "text": [
      "e79c4eb45764bd015542f6779cc70fef44b7a2432f839264768288efab886291\n"
     ]
    }
   ],
   "source": [
    "# Exercise 3\n",
    "\n",
    "from ecc import PrivateKey\n",
    "from helper import int_to_big_endian\n",
    "secret = 21000000\n",
    "# create a private key with the secret\n",
    "priv = PrivateKey(secret)\n",
    "# get the public point for the private key\n",
    "point = priv.point\n",
    "# convert the x coordinate to a big-endian integer 32 bytes\n",
    "xonly = int_to_big_endian(point.x.num, 32)\n",
    "# print the hex of the xonly representation\n",
    "print(xonly.hex())"
   ]
  },
  {
   "cell_type": "markdown",
   "id": "578f089e",
   "metadata": {
    "slideshow": {
     "slide_type": "slide"
    }
   },
   "source": [
    "### Exercise 4\n",
    "\n",
    "\n",
    "\n",
    "\n",
    "#### Make [this test](/edit/session/ecc.py) pass: `ecc.py:XOnlyTest:test_xonly`"
   ]
  },
  {
   "cell_type": "code",
   "execution_count": 7,
   "id": "7d21d2db",
   "metadata": {},
   "outputs": [
    {
     "name": "stderr",
     "output_type": "stream",
     "text": [
      ".\n",
      "----------------------------------------------------------------------\n",
      "Ran 1 test in 0.000s\n",
      "\n",
      "OK\n"
     ]
    }
   ],
   "source": [
    "# Exercise 4\n",
    "\n",
    "reload(ecc)\n",
    "run(ecc.XOnlyTest('test_xonly'))"
   ]
  },
  {
   "cell_type": "markdown",
   "id": "58e11335",
   "metadata": {
    "slideshow": {
     "slide_type": "slide"
    }
   },
   "source": [
    "# Schnorr Verification\n",
    "* $eG=P$, $m$ message, $kG=R$, $H$ is a hash function\n",
    "* Signature is $(R,s)$ where $s=k + e H(R||P||m)$\n",
    "$$-H(R||P||m)P+sG$$\n",
    "$$=-H(R||P||m)P+(k+e H(R||P||m))G$$\n",
    "$$=-H(R||P||m)P+kG+H(R||P||m)(eG)$$\n",
    "$$=R+H(R||P||m)P-H(R||P||m)P=R$$\n"
   ]
  },
  {
   "cell_type": "code",
   "execution_count": 8,
   "id": "d0d47f33",
   "metadata": {
    "slideshow": {
     "slide_type": "slide"
    }
   },
   "outputs": [
    {
     "name": "stdout",
     "output_type": "stream",
     "text": [
      "True\n"
     ]
    }
   ],
   "source": [
    "from ecc import S256Point, SchnorrSignature, G, N\n",
    "from helper import big_endian_to_int\n",
    "from hash import sha256, hash_challenge\n",
    "msg = sha256(b\"I attest to understanding Schnorr Signatures\")\n",
    "sig_raw = bytes.fromhex(\"f3626c99fe36167e5fef6b95e5ed6e5687caa4dc828986a7de8f9423c0f77f9bc73091ed86085ce43de0e255b3d0afafc7eee41ddc9970c3dc8472acfcdfd39a\")\n",
    "sig = SchnorrSignature.parse(sig_raw)\n",
    "xonly = bytes.fromhex(\"f01d6b9018ab421dd410404cb869072065522bf85734008f105cf385a023a80f\")\n",
    "point = S256Point.parse(xonly)\n",
    "commitment = sig.r.xonly() + point.xonly() + msg\n",
    "challenge = big_endian_to_int(hash_challenge(commitment)) % N\n",
    "target = -challenge * point + sig.s * G\n",
    "print(target == sig.r)"
   ]
  },
  {
   "cell_type": "markdown",
   "id": "69e9bcd9",
   "metadata": {
    "slideshow": {
     "slide_type": "slide"
    }
   },
   "source": [
    "### Exercise 5\n",
    "\n",
    "Verify this Schnorr Signature\n",
    "\n",
    "Pubkey = cbaa648dbfe734646ce958e2f14a874149fae4010fdeabde4bae6a732537fd91\n",
    "Signature = 2ae68f873376a0ff302258964632f7b98b21e3bbc72dcc8fb31de8acf01696b951f3dbb6fc5532558219472fb63e061f9a4c7d1760cc588da551c74374cd0de4\n",
    "Message = 1a84547db188f0b1d2c9f0beac230afebbd5e6e6c1a46fc69841815194bf8612\n",
    "\n"
   ]
  },
  {
   "cell_type": "code",
   "execution_count": 9,
   "id": "7b7e1f74",
   "metadata": {},
   "outputs": [
    {
     "name": "stdout",
     "output_type": "stream",
     "text": [
      "True\n"
     ]
    }
   ],
   "source": [
    "# Exercise 5\n",
    "\n",
    "from ecc import SchnorrSignature, S256Point, N, G\n",
    "from hash import hash_challenge\n",
    "from helper import big_endian_to_int\n",
    "p_raw = bytes.fromhex(\"cbaa648dbfe734646ce958e2f14a874149fae4010fdeabde4bae6a732537fd91\")\n",
    "p = S256Point.parse(p_raw)\n",
    "sig_raw = bytes.fromhex(\"2ae68f873376a0ff302258964632f7b98b21e3bbc72dcc8fb31de8acf01696b951f3dbb6fc5532558219472fb63e061f9a4c7d1760cc588da551c74374cd0de4\")\n",
    "sig = SchnorrSignature.parse(sig_raw)\n",
    "msg = bytes.fromhex(\"1a84547db188f0b1d2c9f0beac230afebbd5e6e6c1a46fc69841815194bf8612\")\n",
    "# create the commitment: R || P || m (points should be xonly)\n",
    "commitment = sig.r.xonly() + p.xonly() + msg\n",
    "# h is the hash_challenge of the commitment as a big endian int\n",
    "h = big_endian_to_int(hash_challenge(commitment))\n",
    "# check that -hP+sG=R\n",
    "print(-h*p + sig.s*G  == sig.r)"
   ]
  },
  {
   "cell_type": "markdown",
   "id": "08809335",
   "metadata": {
    "slideshow": {
     "slide_type": "slide"
    }
   },
   "source": [
    "### Exercise 6\n",
    "\n",
    "\n",
    "\n",
    "\n",
    "#### Make [this test](/edit/session/ecc.py) pass: `ecc.py:SchnorrTest:test_verify`"
   ]
  },
  {
   "cell_type": "code",
   "execution_count": 10,
   "id": "6cb428d8",
   "metadata": {},
   "outputs": [
    {
     "name": "stderr",
     "output_type": "stream",
     "text": [
      ".\n",
      "----------------------------------------------------------------------\n",
      "Ran 1 test in 0.110s\n",
      "\n",
      "OK\n"
     ]
    }
   ],
   "source": [
    "# Exercise 6\n",
    "\n",
    "reload(ecc)\n",
    "run(ecc.SchnorrTest('test_verify'))"
   ]
  },
  {
   "cell_type": "markdown",
   "id": "6e046b9a",
   "metadata": {
    "slideshow": {
     "slide_type": "slide"
    }
   },
   "source": [
    "# Schnorr Signing\n",
    "* $eG=P$, $m$ message, $k$ random\n",
    "* $kG=R$, $H$ is <code>hash_challenge</code.\n",
    "* $s=k+e H(R||P||m)$ where $R$ and $P$ are $x$-only\n",
    "* Signature is $(R,s)$\n"
   ]
  },
  {
   "cell_type": "code",
   "execution_count": 11,
   "id": "a70e4d94",
   "metadata": {
    "slideshow": {
     "slide_type": "slide"
    }
   },
   "outputs": [
    {
     "name": "stdout",
     "output_type": "stream",
     "text": [
      "f3626c99fe36167e5fef6b95e5ed6e5687caa4dc828986a7de8f9423c0f77f9bc73091ed86085ce43de0e255b3d0afafc7eee41ddc9970c3dc8472acfcdfd39a\n"
     ]
    }
   ],
   "source": [
    "# Example Signing\n",
    "from ecc import PrivateKey, N, G\n",
    "from hash import sha256, hash_challenge\n",
    "from helper import big_endian_to_int\n",
    "priv = PrivateKey(12345)\n",
    "e = priv.even_secret()\n",
    "msg = sha256(b\"I attest to understanding Schnorr Signatures\")\n",
    "k = 21016020145315867006318399104346325815084469783631925097217883979013588851039\n",
    "r = k * G\n",
    "if r.parity:\n",
    "    k = N - k\n",
    "    r = k * G\n",
    "commitment = r.xonly() + priv.point.xonly() + msg\n",
    "h = big_endian_to_int(hash_challenge(commitment)) % N\n",
    "s = (k + e * h) % N\n",
    "sig = SchnorrSignature(r, s)\n",
    "if not priv.point.verify_schnorr(msg, sig):\n",
    "    raise RuntimeError(\"Bad Signature\")\n",
    "print(sig.serialize().hex())"
   ]
  },
  {
   "cell_type": "markdown",
   "id": "78296b33",
   "metadata": {
    "slideshow": {
     "slide_type": "slide"
    }
   },
   "source": [
    "### Exercise 7\n",
    "\n",
    "Sign the message b\"I'm learning Taproot!\" with the private key 21,000,000\n",
    "\n"
   ]
  },
  {
   "cell_type": "code",
   "execution_count": 12,
   "id": "c100f01d",
   "metadata": {},
   "outputs": [
    {
     "name": "stdout",
     "output_type": "stream",
     "text": [
      "5ad2703f5b4f4b9dea4c28fa30d86d3781d28e09dd51aae1208de80bb6155bee7d9dee36de5540efd633445a8d743816cbbc15fb8a1c7768984190d5b873a341\n"
     ]
    }
   ],
   "source": [
    "# Exercise 7\n",
    "\n",
    "from ecc import PrivateKey, N, G\n",
    "from hash import sha256, hash_challenge\n",
    "from helper import big_endian_to_int\n",
    "priv = PrivateKey(21000000)\n",
    "msg = sha256(b\"I'm learning Taproot!\")\n",
    "# We'll learn more about k later, for now use 987654321\n",
    "k = 987654321\n",
    "# get e using the even_secret method on the private key\n",
    "e = priv.even_secret() #/\n",
    "# calculate R which is kG\n",
    "r = k * G\n",
    "# if R's y coordinate is odd (use the parity property), flip the k\n",
    "if r.parity:\n",
    "    # set k to N - k\n",
    "    k = N - k\n",
    "    # recalculate R\n",
    "    r = k * G\n",
    "# calculate the commitment which is: R || P || msg\n",
    "commitment = r.xonly() + priv.point.xonly() + msg\n",
    "# h is the hash_challenge of the commitment as a big endian integer mod N\n",
    "h = big_endian_to_int(hash_challenge(commitment)) % N\n",
    "# calculate s which is (k+eh) mod N\n",
    "s = (k + e * h) % N\n",
    "# create a SchnorrSignature object using the R and s\n",
    "schnorr = SchnorrSignature(r, s)\n",
    "# check that this schnorr signature verifies\n",
    "if not priv.point.verify_schnorr(msg, schnorr):\n",
    "    raise RuntimeError(\"Bad Signature\")\n",
    "# print the serialized hex of the signature\n",
    "print(schnorr.serialize().hex())"
   ]
  },
  {
   "cell_type": "markdown",
   "id": "45460c63",
   "metadata": {
    "slideshow": {
     "slide_type": "slide"
    }
   },
   "source": [
    "### Exercise 8\n",
    "\n",
    "\n",
    "\n",
    "\n",
    "#### Make [this test](/edit/session/ecc.py) pass: `ecc.py:SchnorrTest:test_sign`"
   ]
  },
  {
   "cell_type": "code",
   "execution_count": 13,
   "id": "c451f407",
   "metadata": {},
   "outputs": [
    {
     "name": "stderr",
     "output_type": "stream",
     "text": [
      ".\n",
      "----------------------------------------------------------------------\n",
      "Ran 1 test in 0.222s\n",
      "\n",
      "OK\n"
     ]
    }
   ],
   "source": [
    "# Exercise 8\n",
    "\n",
    "reload(ecc)\n",
    "run(ecc.SchnorrTest('test_sign'))"
   ]
  },
  {
   "cell_type": "markdown",
   "id": "c80a6a91",
   "metadata": {
    "slideshow": {
     "slide_type": "slide"
    }
   },
   "source": [
    "# Batch Verification\n",
    "* $e_iG=P_i$, $m_i$ message, $H$\n",
    "* Signature is $(R_i,s_i)$, $h_i=H(R_i||P_i||m_i)$\n",
    "* $-h_1 P_1+s_1G=R_1$\n",
    "* $-h_2 P_2+s_2G=R_2$\n",
    "* $-h_1 P_1-h_2 P_1+(s_1+s_2)G=R_1+R_2$\n",
    "* $(s_1+s_2)G=R_1+R_2+h_1 P_1+h_2 P_2$\n"
   ]
  },
  {
   "cell_type": "markdown",
   "id": "7ca940dd",
   "metadata": {
    "slideshow": {
     "slide_type": "slide"
    }
   },
   "source": [
    "### Exercise 9\n",
    "\n",
    "Batch Verify these two Schnorr Signatures\n",
    "\n",
    "Pubkey 1 = cbaa648dbfe734646ce958e2f14a874149fae4010fdeabde4bae6a732537fd91\n",
    "Pubkey 2 = e79c4eb45764bd015542f6779cc70fef44b7a2432f839264768288efab886291\n",
    "\n",
    "Signature 1 = 2ae68f873376a0ff302258964632f7b98b21e3bbc72dcc8fb31de8acf01696b951f3dbb6fc5532558219472fb63e061f9a4c7d1760cc588da551c74374cd0de4\n",
    "Signature 2 = b6e52f38bc24f1420c4fdae8fa0f04b9b0374a12f18fd4699b06df53eb1386bfa88c1835cd19470cf8c76550eb549c988f9c8fac00cc56fadd4fcc3bf9d8800e\n",
    "\n",
    "Message 1 = 1a84547db188f0b1d2c9f0beac230afebbd5e6e6c1a46fc69841815194bf8612\n",
    "Message 2 = af1c325abcb0cced3a4166ce67be1db659ae1dd574fe49b0f2941d8d4882d62c\n",
    "\n"
   ]
  },
  {
   "cell_type": "code",
   "execution_count": 14,
   "id": "5223af54",
   "metadata": {},
   "outputs": [
    {
     "name": "stdout",
     "output_type": "stream",
     "text": [
      "True\n"
     ]
    }
   ],
   "source": [
    "# Exercise 9\n",
    "\n",
    "from ecc import SchnorrSignature, S256Point, N, G\n",
    "from hash import hash_challenge\n",
    "from helper import big_endian_to_int\n",
    "p1_raw = bytes.fromhex(\"cbaa648dbfe734646ce958e2f14a874149fae4010fdeabde4bae6a732537fd91\")\n",
    "p2_raw = bytes.fromhex(\"e79c4eb45764bd015542f6779cc70fef44b7a2432f839264768288efab886291\")\n",
    "p1 = S256Point.parse(p1_raw)\n",
    "p2 = S256Point.parse(p2_raw)\n",
    "sig1_raw = bytes.fromhex(\"2ae68f873376a0ff302258964632f7b98b21e3bbc72dcc8fb31de8acf01696b951f3dbb6fc5532558219472fb63e061f9a4c7d1760cc588da551c74374cd0de4\")\n",
    "sig2_raw = bytes.fromhex(\"b6e52f38bc24f1420c4fdae8fa0f04b9b0374a12f18fd4699b06df53eb1386bfa88c1835cd19470cf8c76550eb549c988f9c8fac00cc56fadd4fcc3bf9d8800e\")\n",
    "sig1 = SchnorrSignature.parse(sig1_raw)\n",
    "sig2 = SchnorrSignature.parse(sig2_raw)\n",
    "msg1 = bytes.fromhex(\"1a84547db188f0b1d2c9f0beac230afebbd5e6e6c1a46fc69841815194bf8612\")\n",
    "msg2 = bytes.fromhex(\"af1c325abcb0cced3a4166ce67be1db659ae1dd574fe49b0f2941d8d4882d62c\")\n",
    "# define s as the s_i sum (make sure to mod by N)\n",
    "s = (sig1.s + sig2.s) % N\n",
    "# define r as the signatures' r sum\n",
    "r = sig1.r + sig2.r\n",
    "# create the commitments: R_i||P_i||m_i\n",
    "commitment_1 = sig1.r.xonly() + p1.xonly() + msg1\n",
    "commitment_2 = sig2.r.xonly() + p2.xonly() + msg2\n",
    "# h_i are the hash_challenge of the commitment as big endian ints mod N\n",
    "h1 = big_endian_to_int(hash_challenge(commitment_1)) % N\n",
    "h2 = big_endian_to_int(hash_challenge(commitment_2)) % N\n",
    "# h is the sum of the h_i P_i's\n",
    "h = h1*p1 + h2*p2\n",
    "# check that sG=R+h\n",
    "print(s*G == r+h)"
   ]
  },
  {
   "cell_type": "markdown",
   "id": "4a755ed6",
   "metadata": {
    "slideshow": {
     "slide_type": "slide"
    }
   },
   "source": [
    "# Spending from the KeyPath\n",
    "* $m$ is the Merkle Root $m$ of the ScriptPath\n",
    "* Tweak $t$ and $P$ create $Q$, the external pubkey\n",
    "* $t=H(P||m)$ where $H$ is <code>hash_taptweak</code>\n",
    "* $Q=P+tG$, and $eG=P$ which means $Q=eG+tG$ and $Q=(e+t)G$\n",
    "* $e+t$ is your private key, which can sign for the $Q$\n",
    "* Witness has a single element, the Schnorr Signature\n",
    "* If you don't want a script path, $m$ is the empty string\n"
   ]
  },
  {
   "cell_type": "code",
   "execution_count": 15,
   "id": "10abcfe4",
   "metadata": {
    "slideshow": {
     "slide_type": "slide"
    }
   },
   "outputs": [
    {
     "name": "stdout",
     "output_type": "stream",
     "text": [
      "OP_1 578444b411276eee17e2f69988d192b7e728f4375525a868f4a9c2b78e12af16\n"
     ]
    }
   ],
   "source": [
    "# Example Q calculation for a single-key\n",
    "from ecc import S256Point, G\n",
    "from hash import hash_taptweak\n",
    "from helper import big_endian_to_int\n",
    "from script import P2TRScriptPubKey\n",
    "internal_pubkey_raw = bytes.fromhex(\"cbaa648dbfe734646ce958e2f14a874149fae4010fdeabde4bae6a732537fd91\")\n",
    "internal_pubkey = S256Point.parse(internal_pubkey_raw)\n",
    "t = big_endian_to_int(hash_taptweak(internal_pubkey_raw))\n",
    "external_pubkey = internal_pubkey + t * G\n",
    "script_pubkey = P2TRScriptPubKey(external_pubkey)\n",
    "print(script_pubkey)"
   ]
  },
  {
   "cell_type": "markdown",
   "id": "d53219ce",
   "metadata": {
    "slideshow": {
     "slide_type": "slide"
    }
   },
   "source": [
    "### Exercise 10\n",
    "\n",
    "Make a P2TR ScriptPubKey using the private key 9284736473\n",
    "\n"
   ]
  },
  {
   "cell_type": "code",
   "execution_count": 16,
   "id": "e2cf66e1",
   "metadata": {},
   "outputs": [
    {
     "name": "stdout",
     "output_type": "stream",
     "text": [
      "OP_1 a6b9f4b7999f9c6de76165342c9feac354d5d3062a41761ed1616eaf9e3c38ec\n"
     ]
    }
   ],
   "source": [
    "# Exercise 10\n",
    "\n",
    "from ecc import PrivateKey, G\n",
    "from hash import hash_taptweak\n",
    "from helper import big_endian_to_int\n",
    "from script import P2TRScriptPubKey\n",
    "priv = PrivateKey(9284736473)\n",
    "# get the internal pubkey\n",
    "internal_pubkey = priv.point\n",
    "# t is the hash_taptweak of the internal pubkey xonly as a big endian integer\n",
    "t = big_endian_to_int(hash_taptweak(internal_pubkey.xonly()))\n",
    "# Q = P + tG\n",
    "external_pubkey = internal_pubkey + t * G\n",
    "# use P2TRScriptPubKey to create the ScriptPubKey\n",
    "script_pubkey = P2TRScriptPubKey(external_pubkey)\n",
    "# print the ScriptPubKey\n",
    "print(script_pubkey)"
   ]
  },
  {
   "cell_type": "markdown",
   "id": "e417f581",
   "metadata": {
    "slideshow": {
     "slide_type": "slide"
    }
   },
   "source": [
    "### Exercise 11\n",
    "\n",
    "\n",
    "\n",
    "\n",
    "#### Make [this test](/edit/session/ecc.py) pass: `ecc.py:TapRootTest:test_default_tweak`"
   ]
  },
  {
   "cell_type": "code",
   "execution_count": 17,
   "id": "89089410",
   "metadata": {},
   "outputs": [
    {
     "name": "stderr",
     "output_type": "stream",
     "text": [
      ".\n",
      "----------------------------------------------------------------------\n",
      "Ran 1 test in 0.000s\n",
      "\n",
      "OK\n"
     ]
    }
   ],
   "source": [
    "# Exercise 11\n",
    "\n",
    "reload(ecc)\n",
    "run(ecc.TapRootTest('test_default_tweak'))"
   ]
  },
  {
   "cell_type": "markdown",
   "id": "6ac60c31",
   "metadata": {
    "slideshow": {
     "slide_type": "slide"
    }
   },
   "source": [
    "### Exercise 12\n",
    "\n",
    "\n",
    "\n",
    "\n",
    "#### Make [this test](/edit/session/ecc.py) pass: `ecc.py:TapRootTest:test_tweaked_key`"
   ]
  },
  {
   "cell_type": "code",
   "execution_count": 18,
   "id": "9f5c8059",
   "metadata": {},
   "outputs": [
    {
     "name": "stderr",
     "output_type": "stream",
     "text": [
      ".\n",
      "----------------------------------------------------------------------\n",
      "Ran 1 test in 0.052s\n",
      "\n",
      "OK\n"
     ]
    }
   ],
   "source": [
    "# Exercise 12\n",
    "\n",
    "reload(ecc)\n",
    "run(ecc.TapRootTest('test_tweaked_key'))"
   ]
  },
  {
   "cell_type": "markdown",
   "id": "375f341a",
   "metadata": {
    "slideshow": {
     "slide_type": "slide"
    }
   },
   "source": [
    "### Exercise 13\n",
    "\n",
    "\n",
    "\n",
    "\n",
    "#### Make [this test](/edit/session/ecc.py) pass: `ecc.py:TapRootTest:test_p2tr_script`"
   ]
  },
  {
   "cell_type": "code",
   "execution_count": 19,
   "id": "aff772df",
   "metadata": {},
   "outputs": [
    {
     "name": "stderr",
     "output_type": "stream",
     "text": [
      ".\n",
      "----------------------------------------------------------------------\n",
      "Ran 1 test in 0.052s\n",
      "\n",
      "OK\n"
     ]
    }
   ],
   "source": [
    "# Exercise 13\n",
    "\n",
    "reload(ecc)\n",
    "run(ecc.TapRootTest('test_p2tr_script'))"
   ]
  },
  {
   "cell_type": "markdown",
   "id": "b99dbf99",
   "metadata": {
    "slideshow": {
     "slide_type": "slide"
    }
   },
   "source": [
    "# P2TR Addresses\n",
    "* Segwit v0 uses Bech32\n",
    "* Taproot (Segwit v1) uses Bech32m\n",
    "* Bech32m is different than Bech32 (BIP350)\n",
    "* Has error correcting capability and uses 32 letters/numbers\n",
    "* Segwit v0 addresses start with <code>bc1q</code> and p2wpkh is shorter than p2wsh\n",
    "* Segwit v1 addresses start with <code>bc1p</code> and they're all one length\n"
   ]
  },
  {
   "cell_type": "code",
   "execution_count": 20,
   "id": "84b337a8",
   "metadata": {
    "slideshow": {
     "slide_type": "slide"
    }
   },
   "outputs": [
    {
     "name": "stdout",
     "output_type": "stream",
     "text": [
      "bc1p27zyfdq3yahwu9lz76vc35vjklnj3aph25j6s68548pt0rsj4utql46j72\n",
      "tb1p27zyfdq3yahwu9lz76vc35vjklnj3aph25j6s68548pt0rsj4utqgavay9\n"
     ]
    }
   ],
   "source": [
    "# Example of getting a p2tr address\n",
    "from ecc import S256Point\n",
    "internal_pubkey_raw = bytes.fromhex(\"cbaa648dbfe734646ce958e2f14a874149fae4010fdeabde4bae6a732537fd91\")\n",
    "internal_pubkey = S256Point.parse(internal_pubkey_raw)\n",
    "print(internal_pubkey.p2tr_address())\n",
    "print(internal_pubkey.p2tr_address(network=\"signet\"))"
   ]
  },
  {
   "cell_type": "markdown",
   "id": "dfb22d2c",
   "metadata": {
    "slideshow": {
     "slide_type": "slide"
    }
   },
   "source": [
    "### Exercise 14\n",
    "\n",
    "Make your own Signet P2TR Address\n",
    "\n",
    "Submit your address at [this link]()\n",
    "\n"
   ]
  },
  {
   "cell_type": "code",
   "execution_count": 21,
   "id": "ab002025",
   "metadata": {},
   "outputs": [
    {
     "name": "stdout",
     "output_type": "stream",
     "text": [
      "tb1pfx2ys8pzcg0mdufk9v25hphv85zgjpv5kyn6uevdmfmvdsw0ea0qyvv87u\n"
     ]
    }
   ],
   "source": [
    "# Exercise 14\n",
    "\n",
    "from ecc import PrivateKey\n",
    "from hash import sha256\n",
    "from helper import big_endian_to_int\n",
    "my_email = b\"jimmy@programmingblockchain.com\"\n",
    "my_secret = big_endian_to_int(sha256(my_email))\n",
    "# create the private key object\n",
    "priv = PrivateKey(my_secret)\n",
    "# get the public point\n",
    "point = priv.point\n",
    "# print the p2tr_address with network set to \"signet\"\n",
    "print(point.p2tr_address(network=\"signet\"))"
   ]
  },
  {
   "cell_type": "markdown",
   "id": "62ae7167",
   "metadata": {
    "slideshow": {
     "slide_type": "slide"
    }
   },
   "source": [
    "# Spending plan\n",
    "* We have 20,000 sats in this output: 871864d7631024465fc210e553fa9f50e7f0f2359288ad121aa733d65e366995:0\n",
    "* We want to spend all of it to tb1ptaqplrhnyh3kq85n7dtm5vcpgstt0ev80f4wd8ngeppch4fzu8mquchufq\n",
    "* 1 input/1 output transaction\n"
   ]
  },
  {
   "cell_type": "code",
   "execution_count": 22,
   "id": "3ddeccdf",
   "metadata": {
    "slideshow": {
     "slide_type": "slide"
    }
   },
   "outputs": [
    {
     "name": "stdout",
     "output_type": "stream",
     "text": [
      "010000000001019569365ed633a71a12ad889235f2f0e7509ffa53e510c25f46241063d76418870000000000ffffffff012c4c0000000000002251205f401f8ef325e3601e93f357ba33014416b7e5877a6ae69e68c8438bd522e1f601403697a0f0f49a451668b9b0361ec7c3b857299f0f80b8ce8c50e1d3cc87f44382de2b6eeccabe0efda3b1639841c342fce64ba28a2a018d4a9a69f5e7a0d43f6b00000000\n"
     ]
    }
   ],
   "source": [
    "# Spending from a p2tr\n",
    "from ecc import PrivateKey, N\n",
    "from hash import sha256\n",
    "from helper import big_endian_to_int\n",
    "from script import address_to_script_pubkey\n",
    "from tx import Tx, TxIn, TxOut\n",
    "my_email = b\"jimmy@programmingblockchain.com\"\n",
    "my_secret = big_endian_to_int(sha256(my_email))\n",
    "priv = PrivateKey(my_secret)\n",
    "prev_tx = bytes.fromhex(\"871864d7631024465fc210e553fa9f50e7f0f2359288ad121aa733d65e366995\")\n",
    "prev_index = 0\n",
    "target_address = \"tb1ptaqplrhnyh3kq85n7dtm5vcpgstt0ev80f4wd8ngeppch4fzu8mquchufq\"\n",
    "fee = 500\n",
    "tx_in = TxIn(prev_tx, prev_index)\n",
    "target_script_pubkey = address_to_script_pubkey(target_address)\n",
    "target_amount = tx_in.value(network=\"signet\") - fee\n",
    "tx_out = TxOut(target_amount, target_script_pubkey)\n",
    "tx_obj = Tx(1, [tx_in], [tx_out], network=\"signet\", segwit=True)\n",
    "tweaked_secret = (priv.secret + big_endian_to_int(priv.point.tweak())) % N\n",
    "tweaked_key = PrivateKey(tweaked_secret)\n",
    "tx_obj.sign_p2tr_keypath(0, tweaked_key)\n",
    "print(tx_obj.serialize().hex())"
   ]
  },
  {
   "cell_type": "markdown",
   "id": "85d5f3a2",
   "metadata": {
    "slideshow": {
     "slide_type": "slide"
    }
   },
   "source": [
    "### Exercise 15\n",
    "\n",
    "\n",
    "\n",
    "\n",
    "#### Make [this test](/edit/session/ecc.py) pass: `ecc.py:PrivateKeyTest:test_tweaked_key`"
   ]
  },
  {
   "cell_type": "code",
   "execution_count": 23,
   "id": "f3a1dde7",
   "metadata": {},
   "outputs": [
    {
     "name": "stderr",
     "output_type": "stream",
     "text": [
      ".\n",
      "----------------------------------------------------------------------\n",
      "Ran 1 test in 0.170s\n",
      "\n",
      "OK\n"
     ]
    }
   ],
   "source": [
    "# Exercise 15\n",
    "\n",
    "reload(ecc)\n",
    "run(ecc.PrivateKeyTest('test_tweaked_key'))"
   ]
  },
  {
   "cell_type": "markdown",
   "id": "9751203e",
   "metadata": {
    "slideshow": {
     "slide_type": "slide"
    }
   },
   "source": [
    "### Exercise 16\n",
    "\n",
    "## Checkpoint Exercise\n",
    "\n",
    "You have been sent 100,000 sats to your address on Signet. Send 40,000 sats back to <code>tb1q7kn55vf3mmd40gyj46r245lw87dc6us5n50lrg</code>, the rest to yourself.\n",
    "\n",
    "Use <a href=\"https://mempool.space/signet/tx/push\" target=\"_mempool\">Mempool Signet</a> to broadcast your transaction\n",
    "\n"
   ]
  },
  {
   "cell_type": "code",
   "execution_count": 24,
   "id": "5a51fd5a",
   "metadata": {},
   "outputs": [
    {
     "name": "stdout",
     "output_type": "stream",
     "text": [
      "01000000000101376afebcc53dd694c99c5674846909881f790145948cb820b1f61f89486309250000000000ffffffff02409c000000000000160014f5a74a3131dedb57a092ae86aad3ee3f9b8d72146ce80000000000002251204994481c22c21fb6f1362b154b86ec3d04890594b127ae658dda76c6c1cfcf5e014002de2a8a88783937f10742235dfdf6a0f9526f4e8eee9d3d4cd11d5813269a0d1b56b5028b81735dae9d3dd9b9f2fe2193474dba0569cff087c2575f0f8f5b5f00000000\n"
     ]
    }
   ],
   "source": [
    "# Exercise 16\n",
    "\n",
    "from ecc import PrivateKey\n",
    "from hash import sha256\n",
    "from helper import big_endian_to_int\n",
    "from script import address_to_script_pubkey\n",
    "from tx import Tx, TxIn, TxOut\n",
    "my_email = b\"jimmy@programmingblockchain.com\"\n",
    "my_secret = big_endian_to_int(sha256(my_email))\n",
    "priv = PrivateKey(my_secret)\n",
    "target_address = \"tb1q7kn55vf3mmd40gyj46r245lw87dc6us5n50lrg\"\n",
    "target_amount = 40000\n",
    "fee = 500\n",
    "# fill the next two variables from the block explorer\n",
    "prev_tx = bytes.fromhex(\"25096348891ff6b120b88c944501791f8809698474569cc994d63dc5bcfe6a37\")\n",
    "prev_index = 0\n",
    "# create the one input\n",
    "tx_in = TxIn(prev_tx, prev_index)\n",
    "# use the address_to_script_pubkey to get the ScriptPubKey\n",
    "target_script_pubkey = address_to_script_pubkey(target_address)\n",
    "# create the target output\n",
    "tx_out_1 = TxOut(target_amount, target_script_pubkey)\n",
    "# calculate the change amount\n",
    "change_amount = 100000 - target_amount - fee\n",
    "# use the private key's point's p2tr_script method to get the change ScriptPubkey\n",
    "change_script_pubkey = priv.point.p2tr_script()\n",
    "# create the change output\n",
    "tx_out_2 = TxOut(change_amount, change_script_pubkey)\n",
    "# create the transaction\n",
    "tx_obj = Tx(1, [tx_in], [tx_out_1, tx_out_2], network=\"signet\", segwit=True)\n",
    "# sign the transaction using the tweaked key and the sign_p2tr_keypath method\n",
    "tx_obj.sign_p2tr_keypath(0, priv.tweaked_key())\n",
    "# print the serialized hex\n",
    "print(tx_obj.serialize().hex())"
   ]
  },
  {
   "cell_type": "markdown",
   "id": "7c1120cd",
   "metadata": {
    "slideshow": {
     "slide_type": "slide"
    }
   },
   "source": [
    "# OP_CHECKSIGADD\n",
    "* Consumes the top three elements: a pubkey, a number, and a signature.\n",
    "* Valid sig, returns the number+1 to the stack\n",
    "* Invalid sig, returns the number back to the stack\n"
   ]
  },
  {
   "cell_type": "code",
   "execution_count": 25,
   "id": "c66715d9",
   "metadata": {
    "slideshow": {
     "slide_type": "slide"
    }
   },
   "outputs": [],
   "source": [
    "def op_checksigadd_schnorr(stack, tx_obj, input_index):\n",
    "    # check to see if there's at least 3 elements\n",
    "    if len(stack) < 3:\n",
    "        return False\n",
    "    # pop off the pubkey\n",
    "    pubkey = stack.pop()\n",
    "    # pop off the n and do decode_num on it\n",
    "    n = decode_num(stack.pop())\n",
    "    # pop off the signature\n",
    "    sig = stack.pop()\n",
    "    # parse the pubkey\n",
    "    point = S256Point.parse_xonly(pubkey)\n",
    "    # if the signature has 0 length, it is not valid\n",
    "    # so put encode_num(n) back on stack and return True\n",
    "    if len(sig) == 0:\n",
    "        stack.append(encode_num(n))\n",
    "        return True\n",
    "    # use the get_signature_and_hashtype function on the sig\n",
    "    schnorr, hash_type = get_signature_and_hashtype(sig)\n",
    "    # get the message from the tx_obj.sig_hash using input index and hash type\n",
    "    msg = tx_obj.sig_hash(input_index, hash_type)\n",
    "    # verify the Schnorr signature\n",
    "    if point.verify_schnorr(msg, schnorr):\n",
    "        # if valid, increment the n, encode_num it and push back on stack\n",
    "        stack.append(encode_num(n + 1))\n",
    "    else:\n",
    "        # if invalid, encode_num on n and push back on stack\n",
    "        stack.append(encode_num(n))\n",
    "    # return True for successful execution\n",
    "    return True"
   ]
  },
  {
   "cell_type": "markdown",
   "id": "64514b82",
   "metadata": {
    "slideshow": {
     "slide_type": "slide"
    }
   },
   "source": [
    "# Example TapScripts\n",
    "* 1-of-1 (pay-to-pubkey) [pubkey, OP_CHECKSIG]\n",
    "* 2-of-2 [pubkey A, OP_CHECKSIGVERIFY, pubkey B, OP_CHECKSIG]\n",
    "* 2-of-3 [pubkey A, OP_CHECKSIG, pubkey B, OP_CHECKSIGADD, pubkey C, OP_CHECKSIGADD, OP_2, OP_EQUAL]\n",
    "* halvening timelock 1-of-1 [840000, OP_CHECKLOCKTIMEVERIFY, OP_DROP, pubkey, OP_CHECKSIG]\n"
   ]
  },
  {
   "cell_type": "code",
   "execution_count": 26,
   "id": "0705ccf5",
   "metadata": {
    "slideshow": {
     "slide_type": "slide"
    }
   },
   "outputs": [
    {
     "name": "stdout",
     "output_type": "stream",
     "text": [
      "331a8f6a14e1b41a6b523ddb505fbc0662a6446bd42408692497297d3474aeec OP_CHECKSIG\n",
      "331a8f6a14e1b41a6b523ddb505fbc0662a6446bd42408692497297d3474aeec OP_CHECKSIGVERIFY 158a49d62c384c539a453e41a70214cfb85184954ae5c8df4b47eb74d58ff16f OP_CHECKSIG\n",
      "331a8f6a14e1b41a6b523ddb505fbc0662a6446bd42408692497297d3474aeec OP_CHECKSIG 158a49d62c384c539a453e41a70214cfb85184954ae5c8df4b47eb74d58ff16f OP_CHECKSIGADD 582662e8e47df59489d6756615aa3db3fa3bbaa75a424b9c78036265858f5544 OP_CHECKSIGADD OP_2 OP_EQUAL\n",
      "40d10c OP_CHECKLOCKTIMEVERIFY OP_DROP 331a8f6a14e1b41a6b523ddb505fbc0662a6446bd42408692497297d3474aeec OP_CHECKSIG\n"
     ]
    }
   ],
   "source": [
    "# Example TapScripts\n",
    "from ecc import PrivateKey\n",
    "from op import encode_minimal_num\n",
    "from taproot import TapScript\n",
    "pubkey_a = PrivateKey(11111111).point.xonly()\n",
    "pubkey_b = PrivateKey(22222222).point.xonly()\n",
    "pubkey_c = PrivateKey(33333333).point.xonly()\n",
    "# 1-of-1 (0xAC is OP_CHECKSIG)\n",
    "tap_script = TapScript([pubkey_a, 0xAC])\n",
    "print(tap_script)\n",
    "# 2-of-2 (0xAD is OP_CHECKSIGVERIFY)\n",
    "tap_script = TapScript([pubkey_a, 0xAD, pubkey_b, 0xAC])\n",
    "print(tap_script)\n",
    "# 2-of-3 (0xBA is OP_CHECKSIGADD, 0x52 is OP_2, 0x87 is OP_EQUAL)\n",
    "tap_script = TapScript([pubkey_a, 0xAC, pubkey_b, 0xBA, pubkey_c, 0xBA, 0x52, 0x87])\n",
    "print(tap_script)\n",
    "# halvening timelock 1-of-1 (0xB1 is OP_CLTV, 0x75 is OP_DROP)\n",
    "tap_script = TapScript([encode_minimal_num(840000), 0xB1, 0x75, pubkey_a, 0xAC])\n",
    "print(tap_script)"
   ]
  },
  {
   "cell_type": "markdown",
   "id": "1b4b76de",
   "metadata": {
    "slideshow": {
     "slide_type": "slide"
    }
   },
   "source": [
    "### Exercise 17\n",
    "\n",
    "Make a TapScript for 4-of-4 using pubkeys from private keys which correspond to 10101, 20202, 30303, 40404\n",
    "\n"
   ]
  },
  {
   "cell_type": "code",
   "execution_count": 27,
   "id": "c2900809",
   "metadata": {},
   "outputs": [
    {
     "name": "stdout",
     "output_type": "stream",
     "text": [
      "134ba4d9c35a66017e9d525a879700a9fb9209a3f43a651fdaf71f3a085a77d3 OP_CHECKSIGVERIFY 027aa71d9cdb31cd8fe037a6f441e624fe478a2deece7affa840312b14e971a4 OP_CHECKSIGVERIFY 165cfd87a31d8fab4431c955b0462804f1ba79b41970ab7e8b0e4e4686f5f8b4 OP_CHECKSIGVERIFY 9e5f5a5c29d33c32185a3dc0a9ccb3e72743744dd869dd40b6265a23fd84a402 OP_CHECKSIG\n"
     ]
    }
   ],
   "source": [
    "# Exercise 17\n",
    "\n",
    "from ecc import PrivateKey\n",
    "from taproot import TapScript\n",
    "pubkey_1 = PrivateKey(10101).point.xonly()\n",
    "pubkey_2 = PrivateKey(20202).point.xonly()\n",
    "pubkey_3 = PrivateKey(30303).point.xonly()\n",
    "pubkey_4 = PrivateKey(40404).point.xonly()\n",
    "# create a 4-of-4 tapscript that uses OP_CHECKSIGVERIFY (0xad) and OP_CHECKSIG (0xac)\n",
    "tap_script = TapScript([pubkey_1, 0xAD, pubkey_2, 0xAD, pubkey_3, 0xAD, pubkey_4, 0xAC])\n",
    "# print the TapScript\n",
    "print(tap_script)"
   ]
  },
  {
   "cell_type": "markdown",
   "id": "cd4f925a",
   "metadata": {
    "slideshow": {
     "slide_type": "slide"
    }
   },
   "source": [
    "# TapLeaf\n",
    "* These are the leaves of the Merkle Tree\n",
    "* Has a TapLeaf Version (<code>0xc0</code>) and TapScript\n",
    "* Any Leaf can be executed to satisfy the Taproot Script Path\n",
    "* Hash of a TapLeaf is a Tagged Hash (TapLeaf) of the version + TapScript\n"
   ]
  },
  {
   "cell_type": "code",
   "execution_count": 28,
   "id": "71d94982",
   "metadata": {
    "slideshow": {
     "slide_type": "slide"
    }
   },
   "outputs": [
    {
     "name": "stdout",
     "output_type": "stream",
     "text": [
      "d1b3ee8e8c175e5db7e2ff7a87435e8f751d148b77fb1f00e14ff8ffa1c09a40\n"
     ]
    }
   ],
   "source": [
    "# Example of making a TapLeaf and calculating the hash\n",
    "from ecc import PrivateKey\n",
    "from hash import hash_tapleaf\n",
    "from helper import int_to_byte\n",
    "from taproot import TapScript, TapLeaf\n",
    "pubkey_a = PrivateKey(11111111).point.xonly()\n",
    "pubkey_b = PrivateKey(22222222).point.xonly()\n",
    "tap_script = TapScript([pubkey_a, 0xAD, pubkey_b, 0xAC])\n",
    "tap_leaf = TapLeaf(tap_script)\n",
    "h = hash_tapleaf(int_to_byte(tap_leaf.tapleaf_version) + tap_leaf.tap_script.serialize())\n",
    "print(h.hex())"
   ]
  },
  {
   "cell_type": "markdown",
   "id": "dadd4f3e",
   "metadata": {
    "slideshow": {
     "slide_type": "slide"
    }
   },
   "source": [
    "### Exercise 18\n",
    "\n",
    "Calculate the TapLeaf hash whose TapScript is a 2-of-4 using pubkeys from private keys which correspond to 10101, 20202, 30303, 40404\n",
    "\n"
   ]
  },
  {
   "cell_type": "code",
   "execution_count": 29,
   "id": "a33397ce",
   "metadata": {},
   "outputs": [
    {
     "name": "stdout",
     "output_type": "stream",
     "text": [
      "0787f5aba506f118a90cefaf00ccfdb2785cf5998d40c3d43ebfaa5b4c6bcb7d\n"
     ]
    }
   ],
   "source": [
    "# Exercise 18\n",
    "\n",
    "from ecc import PrivateKey\n",
    "from hash import hash_tapleaf\n",
    "from helper import int_to_byte\n",
    "from taproot import TapScript, TapLeaf\n",
    "pubkey_1 = PrivateKey(10101).point.xonly()\n",
    "pubkey_2 = PrivateKey(20202).point.xonly()\n",
    "pubkey_3 = PrivateKey(30303).point.xonly()\n",
    "pubkey_4 = PrivateKey(40404).point.xonly()\n",
    "# create a 2-of-4 TapScript that uses OP_CHECKSIG (0xac), OP_CHECKSIGADD (0xba), OP_2 (0x52) and OP_EQUAL (0x87)\n",
    "tap_script = TapScript([pubkey_1, 0xAC, pubkey_2, 0xBA, pubkey_3, 0xBA, pubkey_4, 0xBA, 0x52, 0x87])\n",
    "# create the TapLeaf with the TapScript\n",
    "tap_leaf = TapLeaf(tap_script)\n",
    "# calculate the hash by using hash_tapleaf on the tapleaf version and the tap script\n",
    "h = hash_tapleaf(int_to_byte(tap_leaf.tapleaf_version) + tap_leaf.tap_script.serialize())\n",
    "# print the hash hex\n",
    "print(h.hex())"
   ]
  },
  {
   "cell_type": "markdown",
   "id": "577c6afd",
   "metadata": {
    "slideshow": {
     "slide_type": "slide"
    }
   },
   "source": [
    "### Exercise 19\n",
    "\n",
    "\n",
    "\n",
    "\n",
    "#### Make [this test](/edit/session/taproot.py) pass: `taproot.py:TapRootTest:test_tapleaf_hash`"
   ]
  },
  {
   "cell_type": "code",
   "execution_count": 30,
   "id": "2bab8863",
   "metadata": {},
   "outputs": [
    {
     "name": "stderr",
     "output_type": "stream",
     "text": [
      ".\n",
      "----------------------------------------------------------------------\n",
      "Ran 1 test in 0.000s\n",
      "\n",
      "OK\n"
     ]
    }
   ],
   "source": [
    "# Exercise 19\n",
    "\n",
    "reload(taproot)\n",
    "run(taproot.TapRootTest('test_tapleaf_hash'))"
   ]
  },
  {
   "cell_type": "markdown",
   "id": "173f6fd5",
   "metadata": {
    "slideshow": {
     "slide_type": "slide"
    }
   },
   "source": [
    "# TapBranch\n",
    "* These are the branches of the Merkle Tree\n",
    "* These connect a left child and a right child.\n",
    "* Each child is a TapLeaf or TapBranch\n",
    "* Hash of a TapBranch is a Tagged Hash (TapBranch) of the left hash and right hash, sorted\n"
   ]
  },
  {
   "cell_type": "code",
   "execution_count": 31,
   "id": "c6192f1e",
   "metadata": {
    "slideshow": {
     "slide_type": "slide"
    }
   },
   "outputs": [
    {
     "name": "stdout",
     "output_type": "stream",
     "text": [
      "60f57015577d9cc2326d980355bc0896c80a9f94dc692d8738069bc05895634c\n"
     ]
    }
   ],
   "source": [
    "# Example of making a TapBranch and calculating the hash\n",
    "from ecc import PrivateKey\n",
    "from hash import hash_tapbranch\n",
    "from helper import int_to_byte\n",
    "from taproot import TapScript, TapLeaf, TapBranch\n",
    "pubkey_1 = PrivateKey(11111111).point.xonly()\n",
    "pubkey_2 = PrivateKey(22222222).point.xonly()\n",
    "tap_script_1 = TapScript([pubkey_1, 0xAC])\n",
    "tap_script_2 = TapScript([pubkey_2, 0xAC])\n",
    "tap_leaf_1 = TapLeaf(tap_script_1)\n",
    "tap_leaf_2 = TapLeaf(tap_script_2)\n",
    "tap_branch = TapBranch(tap_leaf_1, tap_leaf_2)\n",
    "left_hash = tap_branch.left.hash()\n",
    "right_hash = tap_branch.right.hash()\n",
    "if left_hash > right_hash:\n",
    "    h = hash_tapbranch(left_hash + right_hash)\n",
    "else:\n",
    "    h = hash_tapbranch(right_hash + left_hash)\n",
    "print(h.hex())"
   ]
  },
  {
   "cell_type": "markdown",
   "id": "def5787e",
   "metadata": {
    "slideshow": {
     "slide_type": "slide"
    }
   },
   "source": [
    "### Exercise 20\n",
    "\n",
    "TabBranch Calculation\n",
    "\n",
    "Calculate the TabBranch hash whose left and right nodes are TapLeafs whose TapScripts are for a 1-of-2 using pubkeys from private keys which correspond to (10101, 20202) for the left, (30303, 40404) for the right\n",
    "\n"
   ]
  },
  {
   "cell_type": "code",
   "execution_count": 32,
   "id": "ab58efe9",
   "metadata": {},
   "outputs": [
    {
     "name": "stdout",
     "output_type": "stream",
     "text": [
      "c10993776ad945520c444382b2b6028cdcf2de50aff74f31a32db8c5b5ee72ae\n"
     ]
    }
   ],
   "source": [
    "# Exercise 20\n",
    "\n",
    "from ecc import PrivateKey\n",
    "from hash import hash_tapbranch\n",
    "from helper import int_to_byte\n",
    "from taproot import TapScript, TapLeaf, TapBranch\n",
    "pubkey_1 = PrivateKey(10101).point.xonly()\n",
    "pubkey_2 = PrivateKey(20202).point.xonly()\n",
    "pubkey_3 = PrivateKey(30303).point.xonly()\n",
    "pubkey_4 = PrivateKey(40404).point.xonly()\n",
    "# create two 1-of-2 TapScripts\n",
    "tap_script_1 = TapScript([pubkey_1, 0xAC, pubkey_2, 0xBA, 0x51, 0x87])\n",
    "tap_script_2 = TapScript([pubkey_3, 0xAC, pubkey_4, 0xBA, 0x51, 0x87])\n",
    "# create two TapLeafs with the TapScripts\n",
    "tap_leaf_1 = TapLeaf(tap_script_1)\n",
    "tap_leaf_2 = TapLeaf(tap_script_2)\n",
    "# create the branch\n",
    "tap_branch = TapBranch(tap_leaf_1, tap_leaf_2)\n",
    "# get the left and right hashes\n",
    "left_hash = tap_branch.left.hash()\n",
    "right_hash = tap_branch.right.hash()\n",
    "# calculate the hash using the sorted order with hash_tapbranch\n",
    "if left_hash < right_hash:\n",
    "    h = hash_tapbranch(left_hash + right_hash)\n",
    "else:\n",
    "    h = hash_tapbranch(right_hash + left_hash)\n",
    "# print the hex of the hash\n",
    "print(h.hex())"
   ]
  },
  {
   "cell_type": "markdown",
   "id": "94dbd221",
   "metadata": {
    "slideshow": {
     "slide_type": "slide"
    }
   },
   "source": [
    "### Exercise 21\n",
    "\n",
    "\n",
    "\n",
    "\n",
    "#### Make [this test](/edit/session/taproot.py) pass: `taproot.py:TapRootTest:test_tapbranch_hash`"
   ]
  },
  {
   "cell_type": "code",
   "execution_count": 33,
   "id": "8c45e09b",
   "metadata": {},
   "outputs": [
    {
     "name": "stderr",
     "output_type": "stream",
     "text": [
      ".\n",
      "----------------------------------------------------------------------\n",
      "Ran 1 test in 0.001s\n",
      "\n",
      "OK\n"
     ]
    }
   ],
   "source": [
    "# Exercise 21\n",
    "\n",
    "reload(taproot)\n",
    "run(taproot.TapRootTest('test_tapbranch_hash'))"
   ]
  },
  {
   "cell_type": "markdown",
   "id": "d272ce48",
   "metadata": {
    "slideshow": {
     "slide_type": "slide"
    }
   },
   "source": [
    "# Computing the Merkle Root\n",
    "* The Merkle Root is the hash of the root element of the Merkle Tree\n",
    "* For TapLeaf: TapLeafHash(version + TapScript serialization)\n",
    "* For TapBranch: TapBranchHash(sorted(left, right))\n",
    "* It doesn't have to be the hash of anything, just has to be 32 bytes\n"
   ]
  },
  {
   "cell_type": "code",
   "execution_count": 34,
   "id": "6f02c44b",
   "metadata": {
    "slideshow": {
     "slide_type": "slide"
    }
   },
   "outputs": [
    {
     "name": "stdout",
     "output_type": "stream",
     "text": [
      "f53fab2e9cf0a458609226b4c42d5c0264700cdf33850c2b1423543a44ad4234\n"
     ]
    }
   ],
   "source": [
    "# Example of Comupting the Merkle Root\n",
    "from ecc import PrivateKey\n",
    "from hash import hash_tapbranch\n",
    "from helper import int_to_byte\n",
    "from taproot import TapScript, TapLeaf, TapBranch\n",
    "pubkey_1 = PrivateKey(11111111).point.xonly()\n",
    "pubkey_2 = PrivateKey(22222222).point.xonly()\n",
    "pubkey_3 = PrivateKey(33333333).point.xonly()\n",
    "tap_script_1 = TapScript([pubkey_1, 0xAC])\n",
    "tap_script_2 = TapScript([pubkey_2, 0xAC])\n",
    "tap_script_3 = TapScript([pubkey_3, 0xAC])\n",
    "tap_leaf_1 = TapLeaf(tap_script_1)\n",
    "tap_leaf_2 = TapLeaf(tap_script_2)\n",
    "tap_leaf_3 = TapLeaf(tap_script_3)\n",
    "tap_branch_1 = TapBranch(tap_leaf_1, tap_leaf_2)\n",
    "tap_root = TapBranch(tap_branch_1, tap_leaf_3)\n",
    "merkle_root = tap_root.hash()\n",
    "print(merkle_root.hex())"
   ]
  },
  {
   "cell_type": "markdown",
   "id": "ef1edc66",
   "metadata": {
    "slideshow": {
     "slide_type": "slide"
    }
   },
   "source": [
    "### Exercise 22\n",
    "\n",
    "Calculate the External PubKey for a Taproot output whose internal pubkey is 90909 and whose Merkle Root is from two TapBranches, each of which is a single signature TapLeaf. The private keys corresponding to the left TapBranch's TapLeafs are 10101 and 20202. The private keys corresponding to the right TapBranch's TapLeafs are 30303 and 40404.\n",
    "\n"
   ]
  },
  {
   "cell_type": "code",
   "execution_count": 35,
   "id": "b653f816",
   "metadata": {},
   "outputs": [
    {
     "name": "stdout",
     "output_type": "stream",
     "text": [
      "8b9f09cd4a33e62b0c9d086056bbdeb7a218c1e4830291b9be56841b31d94ccb\n"
     ]
    }
   ],
   "source": [
    "# Exercise 22\n",
    "\n",
    "from ecc import PrivateKey\n",
    "from helper import big_endian_to_int\n",
    "from taproot import TapScript, TapLeaf, TapBranch\n",
    "internal_pubkey = PrivateKey(90909).point\n",
    "pubkey_1 = PrivateKey(10101).point.xonly()\n",
    "pubkey_2 = PrivateKey(20202).point.xonly()\n",
    "pubkey_3 = PrivateKey(30303).point.xonly()\n",
    "pubkey_4 = PrivateKey(40404).point.xonly()\n",
    "# create four tap scripts [pubkey, 0xac] one for each pubkey\n",
    "tap_script_1 = TapScript([pubkey_1, 0xAC])\n",
    "tap_script_2 = TapScript([pubkey_2, 0xAC])\n",
    "tap_script_3 = TapScript([pubkey_3, 0xAC])\n",
    "tap_script_4 = TapScript([pubkey_4, 0xAC])\n",
    "# create four TapLeafs with the TapScripts\n",
    "tap_leaf_1 = TapLeaf(tap_script_1)\n",
    "tap_leaf_2 = TapLeaf(tap_script_2)\n",
    "tap_leaf_3 = TapLeaf(tap_script_3)\n",
    "tap_leaf_4 = TapLeaf(tap_script_4)\n",
    "# create two TapBranches that have these TapLeafs\n",
    "tap_branch_1 = TapBranch(tap_leaf_1, tap_leaf_2)\n",
    "tap_branch_2 = TapBranch(tap_leaf_3, tap_leaf_4)\n",
    "# create another TapBranch that corresponds to the merkle root and get its hash\n",
    "merkle_root = TapBranch(tap_branch_1, tap_branch_2).hash()\n",
    "# the external public key is the internal public key tweaked with the Merkle Root\n",
    "external_pubkey = internal_pubkey.tweaked_key(merkle_root)\n",
    "# print the hex of the xonly of the external pubkey\n",
    "print(external_pubkey.xonly().hex())"
   ]
  },
  {
   "cell_type": "markdown",
   "id": "e999cbbd",
   "metadata": {
    "slideshow": {
     "slide_type": "slide"
    }
   },
   "source": [
    "# Control Block\n",
    "* Required for spending a TapScript, last element of Witness\n",
    "* TapScript Version (<code>0xc0</code> or <code>0xc1</code>)\n",
    "* The last bit expresses the parity of the external pubkey, which is necessary for batch verification\n",
    "* Internal PubKey $P$\n",
    "* Merkle Proof (list of hashes to combine to get to the Merkle Root)\n"
   ]
  },
  {
   "cell_type": "markdown",
   "id": "a746ae9d",
   "metadata": {
    "slideshow": {
     "slide_type": "slide"
    }
   },
   "source": [
    "# Merkle Proof\n",
    "* List of hashes\n",
    "* Combine each with the hash of the TapScript, sorting them each time\n",
    "* The result is the Merkle Root $m$, which is combined with the Internal PubKey $P$ to get the tweak $t$ with the formula $t=H_{taptweak}(P+m)$\n",
    "* If the result of $P+tG=Q$ where $Q$ is the External PubKey from the UTXO, this is a valid TapScript\n"
   ]
  },
  {
   "cell_type": "code",
   "execution_count": 36,
   "id": "bd99a4ba",
   "metadata": {
    "slideshow": {
     "slide_type": "slide"
    }
   },
   "outputs": [
    {
     "name": "stdout",
     "output_type": "stream",
     "text": [
      "True\n",
      "tb1pe0jrx2y2u8hdu8eysx8ssprdfej8lmuq3namllrazrey56vwan7s5j2wr8\n"
     ]
    }
   ],
   "source": [
    "# Example of Control Block Validation\n",
    "from ecc import PrivateKey, S256Point\n",
    "from hash import hash_tapbranch\n",
    "from helper import int_to_byte\n",
    "from taproot import TapScript, TapLeaf, TapBranch\n",
    "external_pubkey_xonly = bytes.fromhex(\"cbe433288ae1eede1f24818f08046d4e647fef808cfbbffc7d10f24a698eecfd\")\n",
    "pubkey_2 = bytes.fromhex(\"027aa71d9cdb31cd8fe037a6f441e624fe478a2deece7affa840312b14e971a4\")\n",
    "tap_script_2 = TapScript([pubkey_2, 0xAC])\n",
    "tap_leaf_2 = TapLeaf(tap_script_2)\n",
    "tap_leaf_1_hash = bytes.fromhex(\"76f5c1cdfc8b07dc8edca5bef2b4991201c5a0e18b1dbbcfe00ef2295b8f6dff\")\n",
    "tap_leaf_3_hash = bytes.fromhex(\"5dd270ec91aa5644d907059400edfd98e307a6f1c6fe3a2d1d4550674ff6bc6e\")\n",
    "internal_pubkey = S256Point.parse(bytes.fromhex(\"407910a4cfa5fe195ad4844b6069489fcb429f27dff811c65e99f7d776e943e5\"))\n",
    "current = tap_leaf_2.hash()\n",
    "for h in (tap_leaf_1_hash, tap_leaf_3_hash):\n",
    "    if h < current:\n",
    "        current = hash_tapbranch(h + current)\n",
    "    else:\n",
    "        current = hash_tapbranch(current + h)\n",
    "print(internal_pubkey.tweaked_key(current).xonly() == external_pubkey_xonly)\n",
    "print(internal_pubkey.p2tr_address(current, network=\"signet\"))"
   ]
  },
  {
   "cell_type": "markdown",
   "id": "bf9a4248",
   "metadata": {
    "slideshow": {
     "slide_type": "slide"
    }
   },
   "source": [
    "### Exercise 23\n",
    "\n",
    "Validate the Control Block for the pubkey whose private key is 40404 for the external pubkey from the last exercise\n",
    "\n"
   ]
  },
  {
   "cell_type": "code",
   "execution_count": 37,
   "id": "fa9bb095",
   "metadata": {},
   "outputs": [
    {
     "name": "stdout",
     "output_type": "stream",
     "text": [
      "True\n"
     ]
    }
   ],
   "source": [
    "# Exercise 23\n",
    "\n",
    "from ecc import PrivateKey, S256Point\n",
    "from helper import big_endian_to_int\n",
    "from taproot import TapScript, TapLeaf, TapBranch\n",
    "external_pubkey_xonly = bytes.fromhex(\"8b9f09cd4a33e62b0c9d086056bbdeb7a218c1e4830291b9be56841b31d94ccb\")\n",
    "internal_pubkey = PrivateKey(90909).point\n",
    "hash_1 = bytes.fromhex(\"22cac0b60bc7344152a8736425efd62532ee4d83e3de473ed82a64383b4e1208\")\n",
    "hash_2 = bytes.fromhex(\"a41d343d7419b99bfe8e66752fc3c45fd14aa2cc5ef5bf9073ed28dfc60e2e34\")\n",
    "pubkey_4 = bytes.fromhex(\"9e5f5a5c29d33c32185a3dc0a9ccb3e72743744dd869dd40b6265a23fd84a402\")\n",
    "# create the TapScript and TapLeaf for pubkey 4 using [pubkey, 0xac]\n",
    "tap_script_4 = TapScript([pubkey_4, 0xAC])\n",
    "tap_leaf_4 = TapLeaf(tap_script_4)\n",
    "# set the current hash to the TapLeaf's hash\n",
    "current = tap_leaf_4.hash()\n",
    "# loop through hash_1 and hash_2\n",
    "for h in (hash_1, hash_2):\n",
    "    # update current hash to be the hash_tapbranch of h and the current hash, sorted alphabetically\n",
    "    if h < current:\n",
    "        current = hash_tapbranch(h + current)\n",
    "    else:\n",
    "        current = hash_tapbranch(current + h)\n",
    "# get the external pubkey is the internal pubkey's tweaked_key method with the current hash\n",
    "external_pubkey = internal_pubkey.tweaked_key(current)\n",
    "# check to see if the external pubkey's xonly is correct\n",
    "print(external_pubkey.xonly() == external_pubkey_xonly)"
   ]
  },
  {
   "cell_type": "markdown",
   "id": "92a984d5",
   "metadata": {
    "slideshow": {
     "slide_type": "slide"
    }
   },
   "source": [
    "### Exercise 24\n",
    "\n",
    "\n",
    "\n",
    "\n",
    "#### Make [this test](/edit/session/taproot.py) pass: `taproot.py:TapRootTest:test_control_block`"
   ]
  },
  {
   "cell_type": "code",
   "execution_count": 38,
   "id": "7c45311f",
   "metadata": {},
   "outputs": [
    {
     "name": "stderr",
     "output_type": "stream",
     "text": [
      ".\n",
      "----------------------------------------------------------------------\n",
      "Ran 1 test in 0.053s\n",
      "\n",
      "OK\n"
     ]
    }
   ],
   "source": [
    "# Exercise 24\n",
    "\n",
    "reload(taproot)\n",
    "run(taproot.TapRootTest('test_control_block'))"
   ]
  },
  {
   "cell_type": "markdown",
   "id": "61c5884e",
   "metadata": {
    "slideshow": {
     "slide_type": "slide"
    }
   },
   "source": [
    "### Exercise 25\n",
    "\n",
    "Create a Signet P2TR address with these Script Spend conditions:\n",
    "\n",
    "1. Internal Public Key is <code>cd04c1bf88ca891af152fc57c36523ab59efb16b7ec07caca0cfc4a1f2051d9e</code>\n",
    "2. Leaf 1 and Leaf 2 make Branch 1, Branch 1 and Leaf 3 make Branch 2, which is the Merkle Root\n",
    "3. All TapLeaf are single key locked TapScripts (pubkey, OP_CHECKSIG)\n",
    "4. Leaf 1 uses your xonly pubkey\n",
    "5. Leaf 2 uses this xonly pubkey: <code>331a8f6a14e1b41a6b523ddb505fbc0662a6446bd42408692497297d3474aeec</code>\n",
    "6. Leaf 3 uses this xonly pubkey: <code>158a49d62c384c539a453e41a70214cfb85184954ae5c8df4b47eb74d58ff16f</code>\n",
    "\n"
   ]
  },
  {
   "cell_type": "code",
   "execution_count": 39,
   "id": "7c787a77",
   "metadata": {},
   "outputs": [
    {
     "name": "stdout",
     "output_type": "stream",
     "text": [
      "tb1pxh7kypwsvxnat0z6588pufhx43r2fnqjyn846qj5kx8mgqcamvjsyn5cjg\n"
     ]
    }
   ],
   "source": [
    "# Exercise 25\n",
    "\n",
    "from ecc import PrivateKey, S256Point\n",
    "from hash import sha256\n",
    "from helper import big_endian_to_int\n",
    "from taproot import TapScript, TapLeaf, TapBranch\n",
    "my_email = b\"jimmy@programmingblockchain.com\"\n",
    "my_secret = big_endian_to_int(sha256(my_email))\n",
    "internal_pubkey = S256Point.parse(bytes.fromhex(\"cd04c1bf88ca891af152fc57c36523ab59efb16b7ec07caca0cfc4a1f2051d9e\"))\n",
    "pubkey_2 = bytes.fromhex(\"331a8f6a14e1b41a6b523ddb505fbc0662a6446bd42408692497297d3474aeec\")\n",
    "pubkey_3 = bytes.fromhex(\"158a49d62c384c539a453e41a70214cfb85184954ae5c8df4b47eb74d58ff16f\")\n",
    "# get your xonly pubkey using PrivateKey\n",
    "my_xonly = PrivateKey(my_secret).point.xonly()\n",
    "# make the first TapScript and TapLeaf using your xonly and OP_CHECKSIG (0xAC)\n",
    "tap_script_1 = TapScript([my_xonly, 0xAC])\n",
    "tap_leaf_1 = TapLeaf(tap_script_1)\n",
    "# make the second and third TapLeaves using pubkey_2 and pubkey_3 respectively\n",
    "tap_script_2 = TapScript([pubkey_2, 0xAC])\n",
    "tap_leaf_2 = TapLeaf(tap_script_2)\n",
    "tap_script_3 = TapScript([pubkey_3, 0xAC])\n",
    "tap_leaf_3 = TapLeaf(tap_script_3)\n",
    "# make a TapBranch with leaf 1 and 2\n",
    "tap_branch_1 = TapBranch(tap_leaf_1, tap_leaf_2)\n",
    "# make a TapBranch with branch 1 and leaf 3\n",
    "tap_branch_2 = TapBranch(tap_branch_1, tap_leaf_3)\n",
    "# get the hash of this branch, this is the Merkle Root\n",
    "merkle_root = tap_branch_2.hash()\n",
    "# print the address using the p2tr_address method of internal_pubkey and specify signet\n",
    "print(internal_pubkey.p2tr_address(merkle_root, network=\"signet\"))"
   ]
  },
  {
   "cell_type": "markdown",
   "id": "35ec6f65",
   "metadata": {
    "slideshow": {
     "slide_type": "slide"
    }
   },
   "source": [
    "### Exercise 26\n",
    "\n",
    "Send yourself the rest of the coins from the output of the previous exercise to the address you just created\n",
    "\n",
    "Use <a href=\"https://mempool.space/signet/tx/push\" target=\"_mempool\">Mempool Signet</a> to broadcast your transaction\n",
    "\n"
   ]
  },
  {
   "cell_type": "code",
   "execution_count": 40,
   "id": "f6bb62a8",
   "metadata": {},
   "outputs": [
    {
     "name": "stdout",
     "output_type": "stream",
     "text": [
      "010000000001019c5a863b077030fd35b0c8170ae698d23c9a2f1e0873c466621739c4954480690100000000ffffffff0178e600000000000022512035fd6205d061a7d5bc5aa1ce1e26e6ac46a4cc1224cf5d0254b18fb4031ddb250140b33905727e316ab7fc8c2816761d61af9f1c535cee632a210642f07d619af632c6df51d63099be31e6d12ecd2a465543861eab6e53feb09ccd49288bda1cb8f600000000\n"
     ]
    }
   ],
   "source": [
    "# Exercise 26\n",
    "\n",
    "from ecc import PrivateKey, S256Point\n",
    "from hash import sha256\n",
    "from helper import big_endian_to_int\n",
    "from script import address_to_script_pubkey\n",
    "from taproot import TapScript, TapLeaf, TapBranch\n",
    "from tx import Tx, TxIn, TxOut\n",
    "my_email = b\"jimmy@programmingblockchain.com\"\n",
    "my_secret = big_endian_to_int(sha256(my_email))\n",
    "my_private_key = PrivateKey(my_secret)\n",
    "prev_tx = bytes.fromhex(\"69804495c439176266c473081e2f9a3cd298e60a17c8b035fd3070073b865a9c\")\n",
    "prev_index = 1\n",
    "target_address = \"tb1pxh7kypwsvxnat0z6588pufhx43r2fnqjyn846qj5kx8mgqcamvjsyn5cjg\"\n",
    "fee = 500\n",
    "# create a transaction input\n",
    "tx_in = TxIn(prev_tx, prev_index)\n",
    "# calculate the target amount\n",
    "target_amount = tx_in.value(network=\"signet\") - fee\n",
    "target_script = address_to_script_pubkey(target_address)\n",
    "# create a transaction output\n",
    "tx_out = TxOut(target_amount, target_script)\n",
    "# create a transaction, segwit=True and network=\"signet\"\n",
    "tx_obj = Tx(1, [tx_in], [tx_out], network=\"signet\", segwit=True)\n",
    "# calculate the tweaked key from your private key\n",
    "signing_key = my_private_key.tweaked_key()\n",
    "# sign the transaction using sign_p2tr_keypath\n",
    "tx_obj.sign_p2tr_keypath(0, signing_key)\n",
    "# print the serialized hex\n",
    "print(tx_obj.serialize().hex())"
   ]
  },
  {
   "cell_type": "markdown",
   "id": "925b6214",
   "metadata": {
    "slideshow": {
     "slide_type": "slide"
    }
   },
   "source": [
    "### Exercise 27\n",
    "\n",
    "Now spend this output using the script path from the second TapLeaf send it all to <code>tb1q7kn55vf3mmd40gyj46r245lw87dc6us5n50lrg</code>\n",
    "\n",
    "Use <a href=\"https://mempool.space/signet/tx/push to broadcast your transaction\" target=\"_mempool\">Mempool Signet</a> to broadcast your transaction\n",
    "\n"
   ]
  },
  {
   "cell_type": "code",
   "execution_count": 41,
   "id": "b4963236",
   "metadata": {},
   "outputs": [
    {
     "name": "stdout",
     "output_type": "stream",
     "text": [
      "True\n",
      "01000000000101a2b85a1372be6bc9a3d53110a4f142819d653fa6d07fbd4367138145030914200000000000ffffffff0184e4000000000000160014f5a74a3131dedb57a092ae86aad3ee3f9b8d721403403b1681a67f40e6767b2db64744ad3f005d3971645135d58a3e1826d5c960bc281ce187bc9270c51ed7833fcf5e8415501862d51b0ebd051917d9878104778f292220cd04c1bf88ca891af152fc57c36523ab59efb16b7ec07caca0cfc4a1f2051d9eac61c0cd04c1bf88ca891af152fc57c36523ab59efb16b7ec07caca0cfc4a1f2051d9e76f5c1cdfc8b07dc8edca5bef2b4991201c5a0e18b1dbbcfe00ef2295b8f6dffaf5548715217f7a892c7c5ff787a97b6e2f123287a1a354fe3ccda09c39d5d7300000000\n"
     ]
    }
   ],
   "source": [
    "# Exercise 27\n",
    "\n",
    "from ecc import PrivateKey, S256Point\n",
    "from hash import sha256\n",
    "from helper import big_endian_to_int\n",
    "from script import address_to_script_pubkey\n",
    "from taproot import TapScript, TapLeaf, TapBranch\n",
    "from tx import Tx, TxIn, TxOut\n",
    "from witness import Witness\n",
    "my_email = b\"jimmy@programmingblockchain.com\"\n",
    "my_secret = big_endian_to_int(sha256(my_email))\n",
    "my_private_key = PrivateKey(my_secret)\n",
    "internal_pubkey = S256Point.parse(bytes.fromhex(\"cd04c1bf88ca891af152fc57c36523ab59efb16b7ec07caca0cfc4a1f2051d9e\"))\n",
    "pubkey_2 = bytes.fromhex(\"331a8f6a14e1b41a6b523ddb505fbc0662a6446bd42408692497297d3474aeec\")\n",
    "pubkey_3 = bytes.fromhex(\"158a49d62c384c539a453e41a70214cfb85184954ae5c8df4b47eb74d58ff16f\")\n",
    "my_xonly = my_private_key.point.xonly()\n",
    "tap_script_1 = TapScript([my_xonly, 0xAC])\n",
    "tap_leaf_1 = TapLeaf(tap_script_1)\n",
    "tap_script_2 = TapScript([pubkey_2, 0xAC])\n",
    "tap_leaf_2 = TapLeaf(tap_script_2)\n",
    "tap_script_3 = TapScript([pubkey_3, 0xAC])\n",
    "tap_leaf_3 = TapLeaf(tap_script_3)\n",
    "prev_tx = bytes.fromhex(\"201409034581136743bd7fd0a63f659d8142f1a41031d5a3c96bbe72135ab8a2\")\n",
    "prev_index = 0\n",
    "target_address = \"tb1q7kn55vf3mmd40gyj46r245lw87dc6us5n50lrg\"\n",
    "fee = 500\n",
    "# create the two branches needed (leaf 1, leaf 2), (branch 1, leaf 3)\n",
    "tap_branch_1 = TapBranch(tap_leaf_1, tap_leaf_2)\n",
    "tap_branch_2 = TapBranch(tap_branch_1, tap_leaf_3)\n",
    "# create a transaction input\n",
    "tx_in = TxIn(prev_tx, prev_index)\n",
    "# calculate the target amount\n",
    "target_amount = tx_in.value(network=\"signet\") - fee\n",
    "# calculate the target script\n",
    "target_script = address_to_script_pubkey(target_address)\n",
    "# create a transaction output\n",
    "tx_out = TxOut(target_amount, target_script)\n",
    "# create a transaction, segwit=True and network=\"signet\"\n",
    "tx_obj = Tx(1, [tx_in], [tx_out], network=\"signet\", segwit=True)\n",
    "# create the control block from the TapBranch control_block method with internal_pubkey and tap_leaf_1\n",
    "cb = tap_branch_2.control_block(internal_pubkey, tap_leaf_1)\n",
    "# set the tx's witness to be the tap_script_1.raw_serialize() and control block, serialized\n",
    "tx_in.witness = Witness([tap_script_1.raw_serialize(), cb.serialize()])\n",
    "# set the message to be the transaction's sig_hash at index 0\n",
    "msg = tx_obj.sig_hash(0)\n",
    "# use sign_schnorr with yoru private key on the message and serialize it to get the signature\n",
    "sig = my_private_key.sign_schnorr(msg).serialize()\n",
    "# insert the sig in front of the other elements in the witness using tx_in.witness.items.insert\n",
    "tx_in.witness.items.insert(0, sig)\n",
    "# verify the transaction\n",
    "print(tx_obj.verify())\n",
    "# print the serialized hex\n",
    "print(tx_obj.serialize().hex())"
   ]
  }
 ],
 "metadata": {
  "kernelspec": {
   "display_name": "Python 3 (ipykernel)",
   "language": "python",
   "name": "python3"
  },
  "language_info": {
   "codemirror_mode": {
    "name": "ipython",
    "version": 3
   },
   "file_extension": ".py",
   "mimetype": "text/x-python",
   "name": "python",
   "nbconvert_exporter": "python",
   "pygments_lexer": "ipython3",
   "version": "3.11.5"
  }
 },
 "nbformat": 4,
 "nbformat_minor": 5
}
