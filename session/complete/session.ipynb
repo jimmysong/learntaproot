{
 "cells": [
  {
   "cell_type": "markdown",
   "id": "7ee249b4",
   "metadata": {
    "slideshow": {
     "slide_type": "slide"
    }
   },
   "source": [
    "# Tagged Hashes\n",
    "* Each hash is different so that hashes cannot feasibly collide\n",
    "* There are 10 different contexts, each creating its own set of hashes\n",
    "* The hash is SHA256, but with 64 bytes before the actual bytes being hashed\n",
    "* The 64 bytes are another SHA256 of the tag (e.g. \"BIP340/aux\") repeated twice\n",
    "* H_aux(x) = SHA256(SHA256(\"BIP340/aux\") + SHA256(\"BIP340/aux\") + x)\n"
   ]
  },
  {
   "cell_type": "code",
   "execution_count": null,
   "id": "8dadf5e6",
   "metadata": {
    "slideshow": {
     "slide_type": "skip"
    }
   },
   "outputs": [],
   "source": [
    "############## PLEASE RUN THIS CELL FIRST! ###################\n",
    "\n",
    "# import everything and define a test runner function\n",
    "from importlib import reload\n",
    "from helper import run\n",
    "import ecc\n",
    "import hash\n",
    "import op\n",
    "import taproot"
   ]
  },
  {
   "cell_type": "code",
   "execution_count": null,
   "id": "1e49bfe0",
   "metadata": {
    "slideshow": {
     "slide_type": "slide"
    }
   },
   "outputs": [],
   "source": [
    "# Example Tagged Hashes\n",
    "from hash import sha256\n",
    "challenge_tag = b\"BIP0340/challenge\"\n",
    "msg = b\"some message\"\n",
    "challenge_hash = sha256(challenge_tag)\n",
    "hash_challenge = sha256(challenge_hash + challenge_hash + msg)\n",
    "print(hash_challenge.hex())"
   ]
  },
  {
   "cell_type": "markdown",
   "id": "85f4b134",
   "metadata": {
    "slideshow": {
     "slide_type": "slide"
    }
   },
   "source": [
    "### Exercise 1\n",
    "\n",
    "What is the tagged hash \"BIP0340/aux\" of \"hello world\"?\n",
    "\n"
   ]
  },
  {
   "cell_type": "code",
   "execution_count": null,
   "id": "f5b2d003",
   "metadata": {},
   "outputs": [],
   "source": [
    "# Exercise 1\n",
    "\n",
    "from hash import sha256\n",
    "# define the challenge tag and the message\n",
    "challenge_tag = b\"BIP0340/aux\"\n",
    "msg = b\"hello world\"\n",
    "# calculate the challenge tag hash using sha256\n",
    "challenge_tag_hash = sha256(challenge_tag)\n",
    "# calculate the hash of the challenge\n",
    "hash_challenge = sha256(challenge_tag_hash + challenge_tag_hash + msg)\n",
    "print(hash_challenge.hex())"
   ]
  },
  {
   "cell_type": "markdown",
   "id": "aae355c1",
   "metadata": {
    "slideshow": {
     "slide_type": "slide"
    }
   },
   "source": [
    "### Exercise 2\n",
    "\n",
    "\n",
    "\n",
    "\n",
    "#### Make [this test](/edit/session/hash.py) pass: `hash.py:HashTest:test_tagged_hash`"
   ]
  },
  {
   "cell_type": "code",
   "execution_count": null,
   "id": "24346452",
   "metadata": {},
   "outputs": [],
   "source": [
    "# Exercise 2\n",
    "\n",
    "reload(hash)\n",
    "run(hash.HashTest('test_tagged_hash'))"
   ]
  },
  {
   "cell_type": "markdown",
   "id": "bd499fc2",
   "metadata": {
    "slideshow": {
     "slide_type": "slide"
    }
   },
   "source": [
    "# $x$-only keys\n",
    "* Assume $y$ is even\n",
    "* Serialized as 32-bytes\n",
    "* The private key $e$ is flipped to $N-e$ if $y$ is odd\n",
    "* $eG=P=(x,y)$ means $(N-e)G=0-eG=-P=(x,-y)$\n",
    "* Lots of flipping!\n"
   ]
  },
  {
   "cell_type": "code",
   "execution_count": null,
   "id": "87fa62d1",
   "metadata": {
    "slideshow": {
     "slide_type": "slide"
    }
   },
   "outputs": [],
   "source": [
    "# Example X-only pubkey\n",
    "from ecc import PrivateKey, S256Point\n",
    "from helper import int_to_big_endian\n",
    "pubkey = PrivateKey(12345).point\n",
    "xonly = int_to_big_endian(pubkey.x.num, 32)\n",
    "print(xonly.hex())\n",
    "pubkey2 = S256Point.parse(xonly)\n",
    "print(pubkey.xonly() == pubkey2.xonly())"
   ]
  },
  {
   "cell_type": "markdown",
   "id": "8fd3965d",
   "metadata": {
    "slideshow": {
     "slide_type": "slide"
    }
   },
   "source": [
    "### Exercise 3\n",
    "Find the $x$-only pubkey format for the private key with the secret 21,000,000\n",
    "\n"
   ]
  },
  {
   "cell_type": "code",
   "execution_count": null,
   "id": "1d4b0f3b",
   "metadata": {},
   "outputs": [],
   "source": [
    "# Exercise 3\n",
    "\n",
    "from ecc import PrivateKey\n",
    "secret = 21000000\n",
    "# create a private key with the secret\n",
    "priv = PrivateKey(secret)\n",
    "# get the public point for the private key\n",
    "point = priv.point\n",
    "# convert the x coordinate to a big-endian integer 32 bytes\n",
    "xonly = int_to_big_endian(point.x.num, 32)\n",
    "print(xonly.hex())"
   ]
  },
  {
   "cell_type": "markdown",
   "id": "54fb907b",
   "metadata": {
    "slideshow": {
     "slide_type": "slide"
    }
   },
   "source": [
    "### Exercise 4\n",
    "\n",
    "\n",
    "\n",
    "\n",
    "#### Make [this test](/edit/session/ecc.py) pass: `ecc.py:XOnlyTest:test_xonly`"
   ]
  },
  {
   "cell_type": "code",
   "execution_count": null,
   "id": "c3c8ebf9",
   "metadata": {},
   "outputs": [],
   "source": [
    "# Exercise 4\n",
    "\n",
    "reload(ecc)\n",
    "run(ecc.XOnlyTest('test_xonly'))"
   ]
  },
  {
   "cell_type": "markdown",
   "id": "5e4d3454",
   "metadata": {
    "slideshow": {
     "slide_type": "slide"
    }
   },
   "source": [
    "# Schnorr Verification\n",
    "* $eG=P$, $m$ message, $kG=R$, $H$ is a hash function\n",
    "* Signature is $(R,s)$ where $s=k + e H(R||P||m)$\n",
    "* $$-H(R||P||m)P+sG \\\\ =-H(R||P||m)P+(k+e H(R||P||m))G \\\\ =-H(R||P||m)P+kG+H(R||P||m)(eG) \\\\ =R+H(R||P||m)P-H(R||P||m)P=R$$\n"
   ]
  },
  {
   "cell_type": "code",
   "execution_count": null,
   "id": "fc90c449",
   "metadata": {
    "slideshow": {
     "slide_type": "slide"
    }
   },
   "outputs": [],
   "source": [
    "from ecc import S256Point, SchnorrSignature, G, N\n",
    "from helper import sha256, big_endian_to_int\n",
    "from hash import hash_challenge\n",
    "# the message we're signing\n",
    "msg = sha256(b\"I attest to understanding Schnorr Signatures\")\n",
    "# the signature we're using\n",
    "sig_raw = bytes.fromhex(\"f3626c99fe36167e5fef6b95e5ed6e5687caa4dc828986a7de8f9423c0f77f9bc73091ed86085ce43de0e255b3d0afafc7eee41ddc9970c3dc8472acfcdfd39a\")\n",
    "sig = SchnorrSignature.parse(sig_raw)\n",
    "# the pubkey we are using\n",
    "xonly = bytes.fromhex(\"f01d6b9018ab421dd410404cb869072065522bf85734008f105cf385a023a80f\")\n",
    "point = S256Point.parse(xonly)\n",
    "# calculate the commitment which is R || P || msg\n",
    "commitment = sig.r.xonly() + point.xonly() + msg\n",
    "# hash_challenge the commitment, interpret as big endian and mod by N\n",
    "challenge = big_endian_to_int(hash_challenge(commitment)) % N\n",
    "# the target is the -challenge * point + s * G\n",
    "target = -challenge * point + sig.s * G\n",
    "print(target == sig.r)"
   ]
  },
  {
   "cell_type": "markdown",
   "id": "cd07099a",
   "metadata": {
    "slideshow": {
     "slide_type": "slide"
    }
   },
   "source": [
    "### Exercise 5\n",
    "\n",
    "Verify this Schnorr Signature\n",
    "\n",
    "Pubkey = cbaa648dbfe734646ce958e2f14a874149fae4010fdeabde4bae6a732537fd91\n",
    "Signature = 2ae68f873376a0ff302258964632f7b98b21e3bbc72dcc8fb31de8acf01696b951f3dbb6fc5532558219472fb63e061f9a4c7d1760cc588da551c74374cd0de4\n",
    "Message = 1a84547db188f0b1d2c9f0beac230afebbd5e6e6c1a46fc69841815194bf8612\n",
    "\n"
   ]
  },
  {
   "cell_type": "code",
   "execution_count": null,
   "id": "1f3c774d",
   "metadata": {},
   "outputs": [],
   "source": [
    "# Exercise 5\n",
    "\n",
    "from ecc import SchnorrSignature, S256Point, N, G\n",
    "from hash import hash_challenge\n",
    "from helper import big_endian_to_int\n",
    "p_raw = bytes.fromhex(\"cbaa648dbfe734646ce958e2f14a874149fae4010fdeabde4bae6a732537fd91\")\n",
    "pubkey = S256Point.parse(p_raw)\n",
    "sig_raw = bytes.fromhex(\"2ae68f873376a0ff302258964632f7b98b21e3bbc72dcc8fb31de8acf01696b951f3dbb6fc5532558219472fb63e061f9a4c7d1760cc588da551c74374cd0de4\")\n",
    "sig = SchnorrSignature.parse(sig_raw)\n",
    "msg = bytes.fromhex(\"1a84547db188f0b1d2c9f0beac230afebbd5e6e6c1a46fc69841815194bf8612\")\n",
    "# create the commitment: R || P || m (points should be xonly)\n",
    "commitment = sig.r.xonly() + pubkey.xonly() + msg\n",
    "# hash the commitment with hash_challenge and then big_endian_to_int it\n",
    "h = big_endian_to_int(hash_challenge(commitment))\n",
    "# check that -hP+sG=R\n",
    "print(-h*pubkey + sig.s*G  == sig.r)"
   ]
  },
  {
   "cell_type": "markdown",
   "id": "e34df1d6",
   "metadata": {
    "slideshow": {
     "slide_type": "slide"
    }
   },
   "source": [
    "### Exercise 6\n",
    "\n",
    "\n",
    "\n",
    "\n",
    "#### Make [this test](/edit/session/ecc.py) pass: `ecc.py:SchnorrTest:test_verify`"
   ]
  },
  {
   "cell_type": "code",
   "execution_count": null,
   "id": "9d511cfd",
   "metadata": {},
   "outputs": [],
   "source": [
    "# Exercise 6\n",
    "\n",
    "reload(ecc)\n",
    "run(ecc.SchnorrTest('test_verify'))"
   ]
  },
  {
   "cell_type": "markdown",
   "id": "05f7a664",
   "metadata": {
    "slideshow": {
     "slide_type": "slide"
    }
   },
   "source": [
    "# Schnorr Signing\n",
    "* $eG=P$, $m$ message, $k$ random\n",
    "* $kG=R$, $H$ is a hash function\n",
    "* $s=k+e H(R||P||m)$ where $R$ and $P$ are $x$-only\n",
    "* Signature is $(R,s)$\n"
   ]
  },
  {
   "cell_type": "code",
   "execution_count": null,
   "id": "3eb5a3c9",
   "metadata": {
    "slideshow": {
     "slide_type": "slide"
    }
   },
   "outputs": [],
   "source": [
    "# Example Signing\n",
    "from ecc import PrivateKey, N, G\n",
    "from helper import sha256, big_endian_to_int\n",
    "priv = PrivateKey(12345)\n",
    "if priv.point.y.num % 2 == 1:\n",
    "    d = N - priv.secret\n",
    "else:\n",
    "    d = priv.secret\n",
    "msg = sha256(b\"I attest to understanding Schnorr Signatures\")\n",
    "k = 21016020145315867006318399104346325815084469783631925097217883979013588851039\n",
    "r = k * G\n",
    "if r.y.num % 2 == 1:\n",
    "    k = N - k\n",
    "    r = k * G\n",
    "commitment = r.xonly() + priv.point.xonly() + msg\n",
    "e = big_endian_to_int(hash_challenge(commitment)) % N\n",
    "s = (k + e * d) % N\n",
    "sig = SchnorrSignature(r, s)\n",
    "if not priv.point.verify_schnorr(msg, sig):\n",
    "    raise RuntimeError(\"Bad Signature\")\n",
    "print(sig.serialize().hex())"
   ]
  },
  {
   "cell_type": "markdown",
   "id": "ed820653",
   "metadata": {
    "slideshow": {
     "slide_type": "slide"
    }
   },
   "source": [
    "### Exercise 7\n",
    "\n",
    "Sign the message b\"I'm learning Taproot!\" with the private key 21,000,000\n",
    "\n"
   ]
  },
  {
   "cell_type": "code",
   "execution_count": null,
   "id": "7914103c",
   "metadata": {},
   "outputs": [],
   "source": [
    "# Exercise 7\n",
    "\n",
    "from ecc import PrivateKey, N, G\n",
    "from helper import sha256\n",
    "# create the private key\n",
    "priv = PrivateKey(21000000)\n",
    "# calculate d (working secret) based on whether the y is even or odd\n",
    "if priv.point.y.num % 2 == 1:\n",
    "    d = N - priv.secret\n",
    "else:\n",
    "    d = priv.secret\n",
    "# create the message\n",
    "msg = sha256(b\"I'm learning Taproot!\")\n",
    "# We'll learn more about k later, for now use 987654321\n",
    "k = 987654321\n",
    "# get the resulting R=kG point\n",
    "r = k * G\n",
    "# if R's y coordinate is odd, flip the k\n",
    "if r.y.num % 2 == 1:\n",
    "    # set k to N - k\n",
    "    k = N - k\n",
    "    # recalculate R\n",
    "    r = k * G\n",
    "# calculate the commitment which is: R || P || msg\n",
    "commitment = r.xonly() + priv.point.xonly() + msg\n",
    "# hash_challenge the result and interpret as a big endian integer mod the result by N and this is your e\n",
    "e = big_endian_to_int(hash_challenge(commitment)) % N\n",
    "# calculate s which is (k+ed) mod N\n",
    "s = (k + e * d) % N\n",
    "# create a SchnorrSignature object using the R and s\n",
    "sig = SchnorrSignature(r, s)\n",
    "# check that this schnorr signature verifies\n",
    "if not priv.point.verify_schnorr(msg, sig):\n",
    "    raise RuntimeError(\"Bad Signature\")\n",
    "# print the serialized hex of the signature\n",
    "print(sig.serialize().hex())"
   ]
  },
  {
   "cell_type": "markdown",
   "id": "c8941128",
   "metadata": {
    "slideshow": {
     "slide_type": "slide"
    }
   },
   "source": [
    "### Exercise 8\n",
    "\n",
    "\n",
    "\n",
    "\n",
    "#### Make [this test](/edit/session/ecc.py) pass: `ecc.py:SchnorrTest:test_sign`"
   ]
  },
  {
   "cell_type": "code",
   "execution_count": null,
   "id": "b6b3bc50",
   "metadata": {},
   "outputs": [],
   "source": [
    "# Exercise 8\n",
    "\n",
    "reload(ecc)\n",
    "run(ecc.SchnorrTest('test_sign'))"
   ]
  },
  {
   "cell_type": "markdown",
   "id": "9121024e",
   "metadata": {
    "slideshow": {
     "slide_type": "slide"
    }
   },
   "source": [
    "# Batch Verification\n",
    "* $e_iG=P_i$, $m_i$ message, $H$\n",
    "* Signature is $(R_i,s_i)$, $h_i=H(R_i||P_i||m_i)$\n",
    "* $-h_i P_1+s_1G=R_1$\n",
    "* $-h_i P_2+s_2G=R_2$\n",
    "* $-h_1 P_1-h_2 P_1+(s_1+s_2)G=R_1+R_2$\n",
    "* $(s_1+s_2)G=R_1+R_2+h_1 P_1+h_2 P_2$\n"
   ]
  },
  {
   "cell_type": "markdown",
   "id": "b54a9b9d",
   "metadata": {
    "slideshow": {
     "slide_type": "slide"
    }
   },
   "source": [
    "### Exercise 9\n",
    "\n",
    "Batch Verify these two Schnorr Signatures\n",
    "\n",
    "Pubkey 1 = cbaa648dbfe734646ce958e2f14a874149fae4010fdeabde4bae6a732537fd91\n",
    "Pubkey 2 = e79c4eb45764bd015542f6779cc70fef44b7a2432f839264768288efab886291\n",
    "\n",
    "Signature 1 = 2ae68f873376a0ff302258964632f7b98b21e3bbc72dcc8fb31de8acf01696b951f3dbb6fc5532558219472fb63e061f9a4c7d1760cc588da551c74374cd0de4\n",
    "Signature 2 = b6e52f38bc24f1420c4fdae8fa0f04b9b0374a12f18fd4699b06df53eb1386bfa88c1835cd19470cf8c76550eb549c988f9c8fac00cc56fadd4fcc3bf9d8800e\n",
    "\n",
    "Message 1 = 1a84547db188f0b1d2c9f0beac230afebbd5e6e6c1a46fc69841815194bf8612\n",
    "Message 2 = af1c325abcb0cced3a4166ce67be1db659ae1dd574fe49b0f2941d8d4882d62c\n",
    "\n"
   ]
  },
  {
   "cell_type": "code",
   "execution_count": null,
   "id": "0af3fd1e",
   "metadata": {},
   "outputs": [],
   "source": [
    "# Exercise 9\n",
    "\n",
    "from ecc import SchnorrSignature, S256Point, N, G\n",
    "from hash import hash_challenge\n",
    "from helper import big_endian_to_int\n",
    "p1_raw = bytes.fromhex(\"cbaa648dbfe734646ce958e2f14a874149fae4010fdeabde4bae6a732537fd91\")\n",
    "p2_raw = bytes.fromhex(\"e79c4eb45764bd015542f6779cc70fef44b7a2432f839264768288efab886291\")\n",
    "p1 = S256Point.parse(p1_raw)\n",
    "p2 = S256Point.parse(p2_raw)\n",
    "sig1_raw = bytes.fromhex(\"2ae68f873376a0ff302258964632f7b98b21e3bbc72dcc8fb31de8acf01696b951f3dbb6fc5532558219472fb63e061f9a4c7d1760cc588da551c74374cd0de4\")\n",
    "sig2_raw = bytes.fromhex(\"b6e52f38bc24f1420c4fdae8fa0f04b9b0374a12f18fd4699b06df53eb1386bfa88c1835cd19470cf8c76550eb549c988f9c8fac00cc56fadd4fcc3bf9d8800e\")\n",
    "sig1 = SchnorrSignature.parse(sig1_raw)\n",
    "sig2 = SchnorrSignature.parse(sig2_raw)\n",
    "msg1 = bytes.fromhex(\"1a84547db188f0b1d2c9f0beac230afebbd5e6e6c1a46fc69841815194bf8612\")\n",
    "msg2 = bytes.fromhex(\"af1c325abcb0cced3a4166ce67be1db659ae1dd574fe49b0f2941d8d4882d62c\")\n",
    "# define s as the s_i sum (make sure to mod by N)\n",
    "s = (sig1.s + sig2.s) % N\n",
    "# define r as the signatures' r sum\n",
    "r = sig1.r + sig2.r\n",
    "# create the commitments: R_i||P_i||m_i\n",
    "commitment_1 = sig1.r.xonly() + p1.xonly() + msg1\n",
    "commitment_2 = sig2.r.xonly() + p2.xonly() + msg2\n",
    "# define the h's as the hash_challenge of the commitment as a big endian integer\n",
    "h1 = big_endian_to_int(hash_challenge(commitment_1))\n",
    "h2 = big_endian_to_int(hash_challenge(commitment_2))\n",
    "# compute the sum of the h_i P_i's\n",
    "h = h1*p1 + h2*p2\n",
    "# check that sG=R+h\n",
    "print(s*G == r+h)"
   ]
  },
  {
   "cell_type": "markdown",
   "id": "75c0c710",
   "metadata": {
    "slideshow": {
     "slide_type": "slide"
    }
   },
   "source": [
    "# How to spend from the KeyPath\n",
    "* You have to know the Merkle Root of the ScriptPath\n",
    "* The internal public key is hashed together with the Merkle Root to generate the tweak $t$\n",
    "* The formula is $t=H(P||t)$ where H is a Tagged Hash (TapTweak)\n",
    "* $Q=P+tG$, and $eG=P$ which means $Q=eG+tG$ and $Q=(e+t)G$\n",
    "* $e+t$ is your private key, which can sign for the public key Q\n",
    "* Witness only needs the Schnorr Signature\n",
    "* If you don't want a script path, $t$ is just empty\n"
   ]
  },
  {
   "cell_type": "code",
   "execution_count": null,
   "id": "8792cf7d",
   "metadata": {
    "slideshow": {
     "slide_type": "slide"
    }
   },
   "outputs": [],
   "source": [
    "# Example Q calculation for a single-key\n",
    "from ecc import S256Point, G\n",
    "from hash import hash_taptweak\n",
    "from helper import big_endian_to_int\n",
    "from script import P2TRScriptPubKey\n",
    "internal_pubkey_raw = bytes.fromhex(\"cbaa648dbfe734646ce958e2f14a874149fae4010fdeabde4bae6a732537fd91\")\n",
    "internal_pubkey = S256Point.parse(internal_pubkey_raw)\n",
    "tweak = big_endian_to_int(hash_taptweak(internal_pubkey_raw))\n",
    "external_pubkey = internal_pubkey + tweak * G\n",
    "script_pubkey = P2TRScriptPubKey(external_pubkey)\n",
    "print(script_pubkey)"
   ]
  },
  {
   "cell_type": "markdown",
   "id": "588969d7",
   "metadata": {
    "slideshow": {
     "slide_type": "slide"
    }
   },
   "source": [
    "### Exercise 10\n",
    "\n",
    "Make a P2TR ScriptPubKey using the private key 9284736473\n",
    "\n"
   ]
  },
  {
   "cell_type": "code",
   "execution_count": null,
   "id": "2b2607d1",
   "metadata": {},
   "outputs": [],
   "source": [
    "# Exercise 10\n",
    "\n",
    "from ecc import PrivateKey, G\n",
    "from hash import hash_taptweak\n",
    "from helper import big_endian_to_int\n",
    "from script import P2TRScriptPubKey\n",
    "priv = PrivateKey(9284736473)\n",
    "# get the internal pubkey\n",
    "internal_pubkey = priv.point\n",
    "# calculate the tweak\n",
    "tweak = big_endian_to_int(hash_taptweak(internal_pubkey.xonly()))\n",
    "# Q = P + tG\n",
    "external_pubkey = internal_pubkey + tweak * G\n",
    "# use P2TRScriptPubKey to create the ScriptPubKey\n",
    "script_pubkey = P2TRScriptPubKey(external_pubkey)\n",
    "# print the ScriptPubKey\n",
    "print(script_pubkey)"
   ]
  },
  {
   "cell_type": "markdown",
   "id": "cdc4d90b",
   "metadata": {
    "slideshow": {
     "slide_type": "slide"
    }
   },
   "source": [
    "### Exercise 11\n",
    "\n",
    "\n",
    "\n",
    "\n",
    "#### Make [this test](/edit/session/ecc.py) pass: `ecc.py:TapRootTest:test_default_tweak`"
   ]
  },
  {
   "cell_type": "code",
   "execution_count": null,
   "id": "a64dbec3",
   "metadata": {},
   "outputs": [],
   "source": [
    "# Exercise 11\n",
    "\n",
    "reload(ecc)\n",
    "run(ecc.TapRootTest('test_default_tweak'))"
   ]
  },
  {
   "cell_type": "markdown",
   "id": "58a2a4a9",
   "metadata": {
    "slideshow": {
     "slide_type": "slide"
    }
   },
   "source": [
    "### Exercise 12\n",
    "\n",
    "\n",
    "\n",
    "\n",
    "#### Make [this test](/edit/session/ecc.py) pass: `ecc.py:TapRootTest:test_tweaked_key`"
   ]
  },
  {
   "cell_type": "code",
   "execution_count": null,
   "id": "677255f7",
   "metadata": {},
   "outputs": [],
   "source": [
    "# Exercise 12\n",
    "\n",
    "reload(ecc)\n",
    "run(ecc.TapRootTest('test_tweaked_key'))"
   ]
  },
  {
   "cell_type": "markdown",
   "id": "c2de742f",
   "metadata": {
    "slideshow": {
     "slide_type": "slide"
    }
   },
   "source": [
    "### Exercise 13\n",
    "\n",
    "\n",
    "\n",
    "\n",
    "#### Make [this test](/edit/session/ecc.py) pass: `ecc.py:TapRootTest:test_p2tr_script`"
   ]
  },
  {
   "cell_type": "code",
   "execution_count": null,
   "id": "b6de5731",
   "metadata": {},
   "outputs": [],
   "source": [
    "# Exercise 13\n",
    "\n",
    "reload(ecc)\n",
    "run(ecc.TapRootTest('test_p2tr_script'))"
   ]
  },
  {
   "cell_type": "markdown",
   "id": "1357ea92",
   "metadata": {
    "slideshow": {
     "slide_type": "slide"
    }
   },
   "source": [
    "# P2TR Addresses\n",
    "* Uses Bech32m, which is different than Bech32 (BIP350)\n",
    "* Segwit v0 uses Bech32\n",
    "* Taproot (Segwit v1) uses Bech32m\n",
    "* Has error correcting capability and uses 32 letters/numbers\n",
    "* Segwit v0 addresses start with bc1q and p2wpkh is shorter than p2wsh\n",
    "* Segwit v1 addresses start with bc1p and they're all one length\n"
   ]
  },
  {
   "cell_type": "code",
   "execution_count": null,
   "id": "cb17ebfd",
   "metadata": {
    "slideshow": {
     "slide_type": "slide"
    }
   },
   "outputs": [],
   "source": [
    "# Example of getting a p2tr address\n",
    "from ecc import S256Point\n",
    "internal_pubkey_raw = bytes.fromhex(\"cbaa648dbfe734646ce958e2f14a874149fae4010fdeabde4bae6a732537fd91\")\n",
    "internal_pubkey = S256Point.parse(internal_pubkey_raw)\n",
    "print(internal_pubkey.p2tr_address())\n",
    "print(internal_pubkey.p2tr_address(network=\"signet\"))"
   ]
  },
  {
   "cell_type": "markdown",
   "id": "200ed99b",
   "metadata": {
    "slideshow": {
     "slide_type": "slide"
    }
   },
   "source": [
    "### Exercise 14\n",
    "\n",
    "Make your own Signet P2TR Address\n",
    "\n",
    "Write down your address at [this link](https://docs.google.com/spreadsheets/d/1wUNeR-g5qY_2lh18gxg5JIQr352fOW2wZia_QErj4V0/edit?usp=sharing) under \"keypath address\"\n",
    "\n"
   ]
  },
  {
   "cell_type": "code",
   "execution_count": null,
   "id": "fb7d63c5",
   "metadata": {},
   "outputs": [],
   "source": [
    "# Exercise 14\n",
    "\n",
    "from ecc import PrivateKey\n",
    "from helper import sha256\n",
    "my_email = b\"jimmy@programmingblockchain.com\"\n",
    "my_secret = big_endian_to_int(sha256(my_email))\n",
    "# create the private key object\n",
    "priv = PrivateKey(my_secret)\n",
    "# get the public point\n",
    "point = priv.point\n",
    "# print the p2tr_address with network set to \"signet\"\n",
    "print(point.p2tr_address(network=\"signet\"))"
   ]
  },
  {
   "cell_type": "markdown",
   "id": "73c86018",
   "metadata": {
    "slideshow": {
     "slide_type": "slide"
    }
   },
   "source": [
    "# Spending plan\n",
    "* We have 20,000 sats in this output: 871864d7631024465fc210e553fa9f50e7f0f2359288ad121aa733d65e366995:0\n",
    "* We want to spend all of it to tb1ptaqplrhnyh3kq85n7dtm5vcpgstt0ev80f4wd8ngeppch4fzu8mquchufq\n",
    "* 1 input/1 output transaction\n"
   ]
  },
  {
   "cell_type": "code",
   "execution_count": null,
   "id": "f4442ec9",
   "metadata": {
    "slideshow": {
     "slide_type": "slide"
    }
   },
   "outputs": [],
   "source": [
    "# Spending from a p2tr\n",
    "from ecc import PrivateKey, N\n",
    "from helper import sha256, big_endian_to_int\n",
    "from script import address_to_script_pubkey\n",
    "from tx import Tx, TxIn, TxOut\n",
    "my_email = b\"jimmy@programmingblockchain.com\"\n",
    "my_secret = big_endian_to_int(sha256(my_email))\n",
    "priv = PrivateKey(my_secret)\n",
    "prev_tx = bytes.fromhex(\"871864d7631024465fc210e553fa9f50e7f0f2359288ad121aa733d65e366995\")\n",
    "prev_index = 0\n",
    "target_address = \"tb1ptaqplrhnyh3kq85n7dtm5vcpgstt0ev80f4wd8ngeppch4fzu8mquchufq\"\n",
    "fee = 500\n",
    "tx_in = TxIn(prev_tx, prev_index)\n",
    "target_script_pubkey = address_to_script_pubkey(target_address)\n",
    "target_amount = tx_in.value(network=\"signet\") - fee\n",
    "tx_out = TxOut(target_amount, target_script_pubkey)\n",
    "tx_obj = Tx(1, [tx_in], [tx_out], network=\"signet\", segwit=True)\n",
    "tweaked_secret = (priv.secret + big_endian_to_int(priv.point.tweak())) % N\n",
    "tweaked_key = PrivateKey(tweaked_secret)\n",
    "tx_obj.sign_p2tr_keypath(0, tweaked_key)\n",
    "print(tx_obj.serialize().hex())"
   ]
  },
  {
   "cell_type": "markdown",
   "id": "4c6accf6",
   "metadata": {
    "slideshow": {
     "slide_type": "slide"
    }
   },
   "source": [
    "### Exercise 15\n",
    "\n",
    "\n",
    "\n",
    "\n",
    "#### Make [this test](/edit/session/ecc.py) pass: `ecc.py:PrivateKeyTest:test_tweaked_key`"
   ]
  },
  {
   "cell_type": "code",
   "execution_count": null,
   "id": "adececcf",
   "metadata": {},
   "outputs": [],
   "source": [
    "# Exercise 15\n",
    "\n",
    "reload(ecc)\n",
    "run(ecc.PrivateKeyTest('test_tweaked_key'))"
   ]
  },
  {
   "cell_type": "markdown",
   "id": "29ae2af4",
   "metadata": {
    "slideshow": {
     "slide_type": "slide"
    }
   },
   "source": [
    "### Exercise 16\n",
    "\n",
    "## Checkpoint Exercise\n",
    "\n",
    "You have been sent 100,000 sats to your address on Signet. Send 40,000 sats back to <code>tb1q7kn55vf3mmd40gyj46r245lw87dc6us5n50lrg</code>, the rest to yourself.\n",
    "\n",
    "Use <a href=\"https://mempool.space/signet/tx/push to broadcast your transaction\" target=\"_mempool\">Mempool Signet</a> to broadcast your transaction\n",
    "\n"
   ]
  },
  {
   "cell_type": "code",
   "execution_count": null,
   "id": "76abb9c7",
   "metadata": {},
   "outputs": [],
   "source": [
    "# Exercise 16\n",
    "\n",
    "from ecc import PrivateKey\n",
    "from helper import sha256\n",
    "from script import address_to_script_pubkey\n",
    "from tx import Tx, TxIn, TxOut\n",
    "my_email = b\"jimmy@programmingblockchain.com\"\n",
    "my_secret = big_endian_to_int(sha256(my_email))\n",
    "priv = PrivateKey(my_secret)\n",
    "prev_tx = bytes.fromhex(\"25096348891ff6b120b88c944501791f8809698474569cc994d63dc5bcfe6a37\")\n",
    "target_address = \"tb1q7kn55vf3mmd40gyj46r245lw87dc6us5n50lrg\"\n",
    "target_amount = 40000\n",
    "fee = 500\n",
    "# fill this in from the block explorer\n",
    "prev_index = 0\n",
    "# create the one input\n",
    "tx_in = TxIn(prev_tx, prev_index)\n",
    "# use the address_to_script_pubkey to get the ScriptPubKey\n",
    "target_script_pubkey = address_to_script_pubkey(target_address)\n",
    "# create the target output\n",
    "tx_out_1 = TxOut(target_amount, target_script_pubkey)\n",
    "# calculate the change amount\n",
    "change_amount = 100000 - target_amount - fee\n",
    "# use the private key's point's p2tr_script method to get the change ScriptPubkey\n",
    "change_script_pubkey = priv.point.p2tr_script()\n",
    "# create the change output\n",
    "tx_out_2 = TxOut(change_amount, change_script_pubkey)\n",
    "# create the transaction\n",
    "tx_obj = Tx(1, [tx_in], [tx_out_1, tx_out_2], network=\"signet\", segwit=True)\n",
    "# sign the transaction using the tweaked key and the sign_p2tr_keypath method\n",
    "tx_obj.sign_p2tr_keypath(0, priv.tweaked_key())\n",
    "# print the serialized hex\n",
    "print(tx_obj.serialize().hex())"
   ]
  },
  {
   "cell_type": "markdown",
   "id": "ee55b9cc",
   "metadata": {
    "slideshow": {
     "slide_type": "slide"
    }
   },
   "source": [
    "# OP_CHECKSIGADD\n",
    "* Consumes the top three elements: a pubkey, a number, and a signature.\n",
    "* Valid sig, returns the number+1 to the stack\n",
    "* Invalid sig, returns the number back to the stack\n"
   ]
  },
  {
   "cell_type": "markdown",
   "id": "bda26c37",
   "metadata": {
    "slideshow": {
     "slide_type": "slide"
    }
   },
   "source": [
    "### Exercise 17\n",
    "\n",
    "\n",
    "\n",
    "\n",
    "#### Make [this test](/edit/session/op.py) pass: `op.py:TapScriptTest:test_opchecksigadd`"
   ]
  },
  {
   "cell_type": "code",
   "execution_count": null,
   "id": "54fcb4e1",
   "metadata": {},
   "outputs": [],
   "source": [
    "# Exercise 17\n",
    "\n",
    "reload(op)\n",
    "run(op.TapScriptTest('test_opchecksigadd'))"
   ]
  },
  {
   "cell_type": "markdown",
   "id": "72a5d122",
   "metadata": {
    "slideshow": {
     "slide_type": "slide"
    }
   },
   "source": [
    "# Example TapScripts\n",
    "* 1-of-1 (pay-to-pubkey) [pubkey, OP_CHECKSIG]\n",
    "* 2-of-2 [pubkey A, OP_CHECKSIGVERIFY, pubkey B, OP_CHECKSIG]\n",
    "* 2-of-3 [pubkey A, OP_CHECKSIG, pubkey B, OP_CHECKSIGADD, pubkey C, OP_CHECKSIGADD, OP_2, OP_EQUAL]\n",
    "* halvening timelock 1-of-1 [840000, OP_CHECKLOCKTIMEVERIFY, OP_DROP, pubkey, OP_CHECKSIG]\n"
   ]
  },
  {
   "cell_type": "code",
   "execution_count": null,
   "id": "d2e4b852",
   "metadata": {
    "slideshow": {
     "slide_type": "slide"
    }
   },
   "outputs": [],
   "source": [
    "# Example TapScripts\n",
    "from ecc import PrivateKey\n",
    "from op import encode_minimal_num\n",
    "from taproot import TapScript\n",
    "pubkey_a = PrivateKey(11111111).point.xonly()\n",
    "pubkey_b = PrivateKey(22222222).point.xonly()\n",
    "pubkey_c = PrivateKey(33333333).point.xonly()\n",
    "# 1-of-1 (0xAC is OP_CHECKSIG)\n",
    "tap_script = TapScript([pubkey_a, 0xAC])\n",
    "print(tap_script)\n",
    "# 2-of-2 (0xAD is OP_CHECKSIGVERIFY)\n",
    "tap_script = TapScript([pubkey_a, 0xAD, pubkey_b, 0xAC])\n",
    "print(tap_script)\n",
    "# 2-of-3 (0xBA is OP_CHECKSIGADD, 0x52 is OP_2, 0x87 is OP_EQUAL)\n",
    "tap_script = TapScript([pubkey_a, 0xAD, pubkey_b, 0xBA, pubkey_c, 0xBA, 0x52, 0x87])\n",
    "print(tap_script)\n",
    "# halvening timelock 1-of-1 (0xB1 is OP_CLTV, 0x75 is OP_DROP)\n",
    "tap_script = TapScript([encode_minimal_num(840000), 0xB1, 0x75, pubkey_a, 0xAC])\n",
    "print(tap_script)"
   ]
  },
  {
   "cell_type": "markdown",
   "id": "eb32d278",
   "metadata": {
    "slideshow": {
     "slide_type": "slide"
    }
   },
   "source": [
    "### Exercise 18\n",
    "\n",
    "Make a TapScript for 4-of-4 using pubkeys from private keys which correspond to 10101, 20202, 30303, 40404\n",
    "\n"
   ]
  },
  {
   "cell_type": "code",
   "execution_count": null,
   "id": "24f90fb9",
   "metadata": {},
   "outputs": [],
   "source": [
    "# Exercise 18\n",
    "\n",
    "from ecc import PrivateKey\n",
    "from taproot import TapScript\n",
    "pubkey_1 = PrivateKey(10101).point.xonly()\n",
    "pubkey_2 = PrivateKey(20202).point.xonly()\n",
    "pubkey_3 = PrivateKey(30303).point.xonly()\n",
    "pubkey_4 = PrivateKey(40404).point.xonly()\n",
    "# create a 4-of-4 tapscript that uses OP_CHECKSIGVERIFY (0xad) and OP_CHECKSIG (0xac)\n",
    "tap_script = TapScript([pubkey_1, 0xAD, pubkey_2, 0xAD, pubkey_3, 0xAD, pubkey_4, 0xAC])\n",
    "# print the TapScript\n",
    "print(tap_script)"
   ]
  },
  {
   "cell_type": "markdown",
   "id": "5a6ced84",
   "metadata": {
    "slideshow": {
     "slide_type": "slide"
    }
   },
   "source": [
    "# TapLeaf\n",
    "* These are the leaves of the Merkle Tree\n",
    "* Has a TapLeaf Version (<code>0xc0</code>) and TapScript\n",
    "* Any Leaf can be executed to satisfy the Taproot Script Path\n",
    "* Hash of a TapLeaf is a Tagged Hash (TapLeaf) of the version + TapScript\n"
   ]
  },
  {
   "cell_type": "code",
   "execution_count": null,
   "id": "b5262af4",
   "metadata": {
    "slideshow": {
     "slide_type": "slide"
    }
   },
   "outputs": [],
   "source": [
    "# Example of making a TapLeaf and calculating the hash\n",
    "from ecc import PrivateKey\n",
    "from hash import hash_tapleaf\n",
    "from helper import int_to_byte\n",
    "from taproot import TapScript, TapLeaf\n",
    "pubkey_a = PrivateKey(11111111).point.xonly()\n",
    "pubkey_b = PrivateKey(22222222).point.xonly()\n",
    "tap_script = TapScript([pubkey_a, 0xAD, pubkey_b, 0xAC])\n",
    "tap_leaf = TapLeaf(tap_script)\n",
    "h = hash_tapleaf(int_to_byte(tap_leaf.tapleaf_version) + tap_leaf.tap_script.serialize())\n",
    "print(h.hex())"
   ]
  },
  {
   "cell_type": "markdown",
   "id": "60044efc",
   "metadata": {
    "slideshow": {
     "slide_type": "slide"
    }
   },
   "source": [
    "### Exercise 19\n",
    "\n",
    "Calculate the TapLeaf hash whose TapScript is a 2-of-4 using pubkeys from private keys which correspond to 10101, 20202, 30303, 40404\n",
    "\n"
   ]
  },
  {
   "cell_type": "code",
   "execution_count": null,
   "id": "65e33b7f",
   "metadata": {},
   "outputs": [],
   "source": [
    "# Exercise 19\n",
    "\n",
    "from ecc import PrivateKey\n",
    "from hash import hash_tapleaf\n",
    "from helper import int_to_byte\n",
    "from taproot import TapScript, TapLeaf\n",
    "pubkey_1 = PrivateKey(10101).point.xonly()\n",
    "pubkey_2 = PrivateKey(20202).point.xonly()\n",
    "pubkey_3 = PrivateKey(30303).point.xonly()\n",
    "pubkey_4 = PrivateKey(40404).point.xonly()\n",
    "# create a 2-of-4 TapScript that uses OP_CHECKSIG (0xac), OP_CHECKSIGADD (0xba), OP_2 (0x52) and OP_EQUAL (0x87)\n",
    "tap_script = TapScript([pubkey_1, 0xAC, pubkey_2, 0xBA, pubkey_3, 0xBA, pubkey_4, 0xBA, 0x52, 0x87])\n",
    "# create the TapLeaf with the TapScript\n",
    "tap_leaf = TapLeaf(tap_script)\n",
    "# calculate the hash\n",
    "h = hash_tapleaf(int_to_byte(tap_leaf.tapleaf_version) + tap_leaf.tap_script.serialize())\n",
    "# print the hash hex\n",
    "print(h.hex())"
   ]
  },
  {
   "cell_type": "markdown",
   "id": "b9599b47",
   "metadata": {
    "slideshow": {
     "slide_type": "slide"
    }
   },
   "source": [
    "### Exercise 20\n",
    "\n",
    "\n",
    "\n",
    "\n",
    "#### Make [this test](/edit/session/taproot.py) pass: `taproot.py:TapRootTest:test_tapleaf_hash`"
   ]
  },
  {
   "cell_type": "code",
   "execution_count": null,
   "id": "bfb6dad1",
   "metadata": {},
   "outputs": [],
   "source": [
    "# Exercise 20\n",
    "\n",
    "reload(taproot)\n",
    "run(taproot.TapRootTest('test_tapleaf_hash'))"
   ]
  },
  {
   "cell_type": "markdown",
   "id": "2016eb77",
   "metadata": {
    "slideshow": {
     "slide_type": "slide"
    }
   },
   "source": [
    "# TapBranch\n",
    "* These are the branches of the Merkle Tree\n",
    "* These connect a left child and a right child.\n",
    "* Each child is a TapLeaf or TapBranch\n",
    "* Hash of a TapBranch is a Tagged Hash (TapBranch) of the left hash and right hash, sorted\n"
   ]
  },
  {
   "cell_type": "code",
   "execution_count": null,
   "id": "aeee7a5a",
   "metadata": {
    "slideshow": {
     "slide_type": "slide"
    }
   },
   "outputs": [],
   "source": [
    "from ecc import PrivateKey\n",
    "from hash import hash_tapbranch\n",
    "from helper import int_to_byte\n",
    "from taproot import TapScript, TapLeaf, TapBranch\n",
    "pubkey_1 = PrivateKey(11111111).point.xonly()\n",
    "pubkey_2 = PrivateKey(22222222).point.xonly()\n",
    "tap_script_1 = TapScript([pubkey_1, 0xAC])\n",
    "tap_script_2 = TapScript([pubkey_2, 0xAC])\n",
    "tap_leaf_1 = TapLeaf(tap_script_1)\n",
    "tap_leaf_2 = TapLeaf(tap_script_2)\n",
    "tap_branch = TapBranch(tap_leaf_1, tap_leaf_2)\n",
    "left_hash = tap_branch.left.hash()\n",
    "right_hash = tap_branch.right.hash()\n",
    "if left_hash > right_hash:\n",
    "    h = hash_tapbranch(left_hash + right_hash)\n",
    "else:\n",
    "    h = hash_tapbranch(right_hash + left_hash)\n",
    "print(h.hex())"
   ]
  },
  {
   "cell_type": "markdown",
   "id": "998bca9f",
   "metadata": {
    "slideshow": {
     "slide_type": "slide"
    }
   },
   "source": [
    "### Exercise 21\n",
    "\n",
    "TabBranch Calculation\n",
    "\n",
    "Calculate the TabBranch hash whose left and right nodes are TapLeafs whose TapScripts are for a 1-of-2 using pubkeys from private keys which correspond to (10101, 20202) for the left, (30303, 40404) for the right\n",
    "\n"
   ]
  },
  {
   "cell_type": "code",
   "execution_count": null,
   "id": "b1719cda",
   "metadata": {},
   "outputs": [],
   "source": [
    "# Exercise 21\n",
    "\n",
    "from ecc import PrivateKey\n",
    "from hash import hash_tapbranch\n",
    "from helper import int_to_byte\n",
    "from taproot import TapScript, TapLeaf, TapBranch\n",
    "pubkey_1 = PrivateKey(10101).point.xonly()\n",
    "pubkey_2 = PrivateKey(20202).point.xonly()\n",
    "pubkey_3 = PrivateKey(30303).point.xonly()\n",
    "pubkey_4 = PrivateKey(40404).point.xonly()\n",
    "# create two 1-of-2 TapScripts\n",
    "tap_script_1 = TapScript([pubkey_1, 0xAC, pubkey_2, 0xBA, 0x51, 0x87])\n",
    "tap_script_2 = TapScript([pubkey_3, 0xAC, pubkey_4, 0xBA, 0x51, 0x87])\n",
    "# create two TapLeafs with the TapScripts\n",
    "tap_leaf_1 = TapLeaf(tap_script_1)\n",
    "tap_leaf_2 = TapLeaf(tap_script_2)\n",
    "# create the branch\n",
    "tap_branch = TapBranch(tap_leaf_1, tap_leaf_2)\n",
    "# get the left and right hashes\n",
    "left_hash = tap_branch.left.hash()\n",
    "right_hash = tap_branch.right.hash()\n",
    "# calculate the hash using the sorted order with hash_tapbranch\n",
    "if left_hash > right_hash:\n",
    "    h = hash_tapbranch(left_hash + right_hash)\n",
    "else:\n",
    "    h = hash_tapbranch(right_hash + left_hash)\n",
    "# print the hex of the hash\n",
    "print(h.hex())"
   ]
  },
  {
   "cell_type": "markdown",
   "id": "ddc644d0",
   "metadata": {
    "slideshow": {
     "slide_type": "slide"
    }
   },
   "source": [
    "### Exercise 22\n",
    "\n",
    "\n",
    "\n",
    "\n",
    "#### Make [this test](/edit/session/taproot.py) pass: `taproot.py:TapRootTest:test_tapbranch_hash`"
   ]
  },
  {
   "cell_type": "code",
   "execution_count": null,
   "id": "90998eb1",
   "metadata": {},
   "outputs": [],
   "source": [
    "# Exercise 22\n",
    "\n",
    "reload(taproot)\n",
    "run(taproot.TapRootTest('test_tapbranch_hash'))"
   ]
  },
  {
   "cell_type": "markdown",
   "id": "1649841b",
   "metadata": {
    "slideshow": {
     "slide_type": "slide"
    }
   },
   "source": [
    "# Computing the Merkle Root\n",
    "* The Merkle Root is the hash of the root element of the Merkle Tree\n",
    "* For TapLeaf: Tagged hash (TapLeaf) of TapLeaf Version followed by the TapScript\n",
    "* For TapBranch: Tagged hash (TapBranch) of the sorted children (left and right)\n",
    "* It doesn't have to be the hash of anything, just has to be 32 bytes\n"
   ]
  },
  {
   "cell_type": "code",
   "execution_count": null,
   "id": "e6775fbc",
   "metadata": {
    "slideshow": {
     "slide_type": "slide"
    }
   },
   "outputs": [],
   "source": [
    "# Example of Comupting the Merkle Root\n",
    "from ecc import PrivateKey\n",
    "from hash import hash_tapbranch\n",
    "from helper import int_to_byte\n",
    "from taproot import TapScript, TapLeaf, TapBranch\n",
    "pubkey_1 = PrivateKey(11111111).point.xonly()\n",
    "pubkey_2 = PrivateKey(22222222).point.xonly()\n",
    "pubkey_3 = PrivateKey(33333333).point.xonly()\n",
    "tap_script_1 = TapScript([pubkey_1, 0xAC])\n",
    "tap_script_2 = TapScript([pubkey_2, 0xAC])\n",
    "tap_script_3 = TapScript([pubkey_3, 0xAC])\n",
    "tap_leaf_1 = TapLeaf(tap_script_1)\n",
    "tap_leaf_2 = TapLeaf(tap_script_2)\n",
    "tap_leaf_3 = TapLeaf(tap_script_3)\n",
    "tap_branch_1 = TapBranch(tap_leaf_1, tap_leaf_2)\n",
    "tap_root = TapBranch(tap_branch_1, tap_leaf_3)\n",
    "merkle_root = tap_root.hash()\n",
    "print(merkle_root.hex())"
   ]
  },
  {
   "cell_type": "markdown",
   "id": "9cbcebde",
   "metadata": {
    "slideshow": {
     "slide_type": "slide"
    }
   },
   "source": [
    "### Exercise 23\n",
    "\n",
    "Calculate the External PubKey for a Taproot output whose internal pubkey is 90909 and whose Merkle Root is from two TapBranches, each of which is a single signature TapLeaf. The private keys corresponding to the left TapBranch's TapLeafs are 10101 and 20202. The private keys corresponding to the right TapBranch's TapLeafs are 30303 and 40404.\n",
    "\n"
   ]
  },
  {
   "cell_type": "code",
   "execution_count": null,
   "id": "59b96bf1",
   "metadata": {},
   "outputs": [],
   "source": [
    "# Exercise 23\n",
    "\n",
    "from ecc import PrivateKey\n",
    "from helper import big_endian_to_int\n",
    "from taproot import TapScript, TapLeaf, TapBranch\n",
    "internal_pubkey = PrivateKey(90909).point\n",
    "pubkey_1 = PrivateKey(10101).point.xonly()\n",
    "pubkey_2 = PrivateKey(20202).point.xonly()\n",
    "pubkey_3 = PrivateKey(30303).point.xonly()\n",
    "pubkey_4 = PrivateKey(40404).point.xonly()\n",
    "# create four tap scripts one for each pubkey\n",
    "tap_script_1 = TapScript([pubkey_1, 0xAC])\n",
    "tap_script_2 = TapScript([pubkey_2, 0xAC])\n",
    "tap_script_3 = TapScript([pubkey_3, 0xAC])\n",
    "tap_script_4 = TapScript([pubkey_4, 0xAC])\n",
    "# create four TapLeafs with the TapScripts\n",
    "tap_leaf_1 = TapLeaf(tap_script_1)\n",
    "tap_leaf_2 = TapLeaf(tap_script_2)\n",
    "tap_leaf_3 = TapLeaf(tap_script_3)\n",
    "tap_leaf_4 = TapLeaf(tap_script_4)\n",
    "# create two TapBranches that have these TapLeafs\n",
    "tap_branch_1 = TapBranch(tap_leaf_1, tap_leaf_2)\n",
    "tap_branch_2 = TapBranch(tap_leaf_3, tap_leaf_4)\n",
    "# create another TapBranch that corresponds to the merkle root and get its hash\n",
    "merkle_root = TapBranch(tap_branch_1, tap_branch_2).hash()\n",
    "# the external public key is the internal public key tweaked with the Merkle Root\n",
    "external_pubkey = internal_pubkey.tweaked_key(merkle_root)\n",
    "# print the hex of the xonly of the external pubkey\n",
    "print(external_pubkey.xonly().hex())"
   ]
  },
  {
   "cell_type": "markdown",
   "id": "762e66d8",
   "metadata": {
    "slideshow": {
     "slide_type": "slide"
    }
   },
   "source": [
    "# Control Block\n",
    "* Required for spending a TapScript, last element of Witness\n",
    "* TapScript Version (<code>0xc0</code> or <code>0xc1</code>)\n",
    "* The last bit expresses the parity of the external pubkey, which is necessary for batch verification\n",
    "* Internal PubKey $P$\n",
    "* Merkle Proof (list of hashes to combine to get to the Merkle Root)\n"
   ]
  },
  {
   "cell_type": "markdown",
   "id": "856ebcca",
   "metadata": {
    "slideshow": {
     "slide_type": "slide"
    }
   },
   "source": [
    "# Merkle Proof\n",
    "* List of hashes\n",
    "* Combine each with the hash of the TapScript, sorting them each time\n",
    "* The result is the Merkle Root, which can be combined with the Internal PubKey $P$ to get the tweak $t$\n",
    "* If the result of $P+tG=Q$ where $Q$ is the External PubKey from the UTXO, this is a valid TapScript\n"
   ]
  },
  {
   "cell_type": "code",
   "execution_count": null,
   "id": "4eba16fa",
   "metadata": {
    "slideshow": {
     "slide_type": "slide"
    }
   },
   "outputs": [],
   "source": [
    "# Example of Control Block Validation\n",
    "from ecc import PrivateKey, S256Point\n",
    "from hash import hash_tapbranch\n",
    "from helper import int_to_byte\n",
    "from taproot import TapScript, TapLeaf, TapBranch\n",
    "external_pubkey_xonly = bytes.fromhex(\"cbe433288ae1eede1f24818f08046d4e647fef808cfbbffc7d10f24a698eecfd\")\n",
    "pubkey_2 = bytes.fromhex(\"027aa71d9cdb31cd8fe037a6f441e624fe478a2deece7affa840312b14e971a4\")\n",
    "tap_script_2 = TapScript([pubkey_2, 0xAC])\n",
    "tap_leaf_2 = TapLeaf(tap_script_2)\n",
    "tap_leaf_1_hash = bytes.fromhex(\"76f5c1cdfc8b07dc8edca5bef2b4991201c5a0e18b1dbbcfe00ef2295b8f6dff\")\n",
    "tap_leaf_3_hash = bytes.fromhex(\"5dd270ec91aa5644d907059400edfd98e307a6f1c6fe3a2d1d4550674ff6bc6e\")\n",
    "internal_pubkey = S256Point.parse(bytes.fromhex(\"407910a4cfa5fe195ad4844b6069489fcb429f27dff811c65e99f7d776e943e5\"))\n",
    "current = tap_leaf_2.hash()\n",
    "for h in (tap_leaf_1_hash, tap_leaf_3_hash):\n",
    "    if h < current:\n",
    "        current = hash_tapbranch(h + current)\n",
    "    else:\n",
    "        current = hash_tapbranch(current + h)\n",
    "print(internal_pubkey.tweaked_key(current).xonly() == external_pubkey_xonly)\n",
    "print(internal_pubkey.p2tr_address(current, network=\"signet\"))"
   ]
  },
  {
   "cell_type": "markdown",
   "id": "3c2010b2",
   "metadata": {
    "slideshow": {
     "slide_type": "slide"
    }
   },
   "source": [
    "### Exercise 24\n",
    "\n",
    "Validate the Control Block for the pubkey whose private key is 40404 for the previous external pubkey\n",
    "\n"
   ]
  },
  {
   "cell_type": "code",
   "execution_count": null,
   "id": "9f876c91",
   "metadata": {},
   "outputs": [],
   "source": [
    "# Exercise 24\n",
    "\n",
    "from ecc import PrivateKey, S256Point\n",
    "from helper import big_endian_to_int\n",
    "from taproot import TapScript, TapLeaf, TapBranch\n",
    "external_pubkey_xonly = bytes.fromhex(\"8b9f09cd4a33e62b0c9d086056bbdeb7a218c1e4830291b9be56841b31d94ccb\")\n",
    "internal_pubkey = PrivateKey(90909).point\n",
    "hash_1 = bytes.fromhex(\"22cac0b60bc7344152a8736425efd62532ee4d83e3de473ed82a64383b4e1208\")\n",
    "hash_2 = bytes.fromhex(\"a41d343d7419b99bfe8e66752fc3c45fd14aa2cc5ef5bf9073ed28dfc60e2e34\")\n",
    "pubkey_4 = bytes.fromhex(\"9e5f5a5c29d33c32185a3dc0a9ccb3e72743744dd869dd40b6265a23fd84a402\")\n",
    "# create the TapScript and TapLeaf for pubkey 4\n",
    "tap_script_4 = TapScript([pubkey_4, 0xAC])\n",
    "tap_leaf_4 = TapLeaf(tap_script_4)\n",
    "# set the current hash to the TapLeaf's hash\n",
    "current = tap_leaf_4.hash()\n",
    "# loop through hash_1 and hash_2\n",
    "for h in (hash_1, hash_2):\n",
    "    # do a hash_tapbranch of h and current, sorted alphabetically\n",
    "    if h < current:\n",
    "        current = hash_tapbranch(h + current)\n",
    "    else:\n",
    "        current = hash_tapbranch(current + h)\n",
    "# get the external pubkey using the current hash as the merkle root with the internal pubkey\n",
    "external_pubkey = internal_pubkey.tweaked_key(current)\n",
    "# check to see if the external pubkey's xonly is correct\n",
    "print(external_pubkey.xonly() == external_pubkey_xonly)"
   ]
  },
  {
   "cell_type": "markdown",
   "id": "9d9fcadd",
   "metadata": {
    "slideshow": {
     "slide_type": "slide"
    }
   },
   "source": [
    "### Exercise 25\n",
    "\n",
    "\n",
    "\n",
    "\n",
    "#### Make [this test](/edit/session/taproot.py) pass: `taproot.py:TapRootTest:test_control_block`"
   ]
  },
  {
   "cell_type": "code",
   "execution_count": null,
   "id": "b689f58b",
   "metadata": {},
   "outputs": [],
   "source": [
    "# Exercise 25\n",
    "\n",
    "reload(taproot)\n",
    "run(taproot.TapRootTest('test_control_block'))"
   ]
  },
  {
   "cell_type": "markdown",
   "id": "44093c8a",
   "metadata": {
    "slideshow": {
     "slide_type": "slide"
    }
   },
   "source": [
    "### Exercise 26\n",
    "\n",
    "Create a Signet P2TR address with these Script Spend conditions:\n",
    "\n",
    "1. Internal Public Key is <code>cd04c1bf88ca891af152fc57c36523ab59efb16b7ec07caca0cfc4a1f2051d9e</code>\n",
    "2. Leaf 1 and Leaf 2 make Branch 1, Branch 1 and Leaf 3 make Branch 2, which is the Merkle Root\n",
    "3. All TapLeaf are single key locked TapScripts (pubkey, OP_CHECKSIG)\n",
    "4. Leaf 1 uses your xonly pubkey\n",
    "5. Leaf 2 uses this xonly pubkey: <code>331a8f6a14e1b41a6b523ddb505fbc0662a6446bd42408692497297d3474aeec</code>\n",
    "6. Leaf 3 uses this xonly pubkey: <code>158a49d62c384c539a453e41a70214cfb85184954ae5c8df4b47eb74d58ff16f</code>\n",
    "\n"
   ]
  },
  {
   "cell_type": "code",
   "execution_count": null,
   "id": "a14e3ae5",
   "metadata": {},
   "outputs": [],
   "source": [
    "# Exercise 26\n",
    "\n",
    "from ecc import PrivateKey, S256Point\n",
    "from helper import sha256, big_endian_to_int\n",
    "from taproot import TapScript, TapLeaf, TapBranch\n",
    "my_email = b\"jimmy@programmingblockchain.com\"\n",
    "my_secret = big_endian_to_int(sha256(my_email))\n",
    "internal_pubkey = S256Point.parse(bytes.fromhex(\"cd04c1bf88ca891af152fc57c36523ab59efb16b7ec07caca0cfc4a1f2051d9e\"))\n",
    "pubkey_2 = bytes.fromhex(\"331a8f6a14e1b41a6b523ddb505fbc0662a6446bd42408692497297d3474aeec\")\n",
    "pubkey_3 = bytes.fromhex(\"158a49d62c384c539a453e41a70214cfb85184954ae5c8df4b47eb74d58ff16f\")\n",
    "# get your xonly pubkey\n",
    "my_xonly = PrivateKey(my_secret).point.xonly()\n",
    "# make the first TapScript and TapLeaf using your xonly and OP_CHECKSIG (0xAC)\n",
    "tap_script_1 = TapScript([my_xonly, 0xAC])\n",
    "tap_leaf_1 = TapLeaf(tap_script_1)\n",
    "# make the second and third TapLeaves using pubkey_2 and pubkey_3 respectively\n",
    "tap_script_2 = TapScript([pubkey_2, 0xAC])\n",
    "tap_leaf_2 = TapLeaf(tap_script_2)\n",
    "tap_script_3 = TapScript([pubkey_3, 0xAC])\n",
    "tap_leaf_3 = TapLeaf(tap_script_3)\n",
    "# make a TapBranch with leaf 1 and 2\n",
    "tap_branch_1 = TapBranch(tap_leaf_1, tap_leaf_2)\n",
    "# make a TapBranch with branch 1 and leaf 3\n",
    "tap_branch_2 = TapBranch(tap_branch_1, tap_leaf_3)\n",
    "# get the hash of this branch, this is the Merkle Root\n",
    "merkle_root = tap_branch_2.hash()\n",
    "# print the address using the p2tr_address method of internal_pubkey and specify signet\n",
    "print(internal_pubkey.p2tr_address(merkle_root, network=\"signet\"))"
   ]
  },
  {
   "cell_type": "markdown",
   "id": "b6cb5dc9",
   "metadata": {
    "slideshow": {
     "slide_type": "slide"
    }
   },
   "source": [
    "### Exercise 27\n",
    "\n",
    "Send yourself the rest of the coins from the output of the previous exercise to the address you just created\n",
    "\n",
    "Use <a href=\"https://mempool.space/signet/tx/push to broadcast your transaction\" target=\"_mempool\">Mempool Signet</a> to broadcast your transaction\n",
    "\n"
   ]
  },
  {
   "cell_type": "code",
   "execution_count": null,
   "id": "2062d3a2",
   "metadata": {},
   "outputs": [],
   "source": [
    "# Exercise 27\n",
    "\n",
    "from ecc import PrivateKey, S256Point\n",
    "from helper import sha256, big_endian_to_int\n",
    "from script import address_to_script_pubkey\n",
    "from taproot import TapScript, TapLeaf, TapBranch\n",
    "from tx import Tx, TxIn, TxOut\n",
    "my_email = b\"jimmy@programmingblockchain.com\"\n",
    "my_secret = big_endian_to_int(sha256(my_email))\n",
    "my_private_key = PrivateKey(my_secret)\n",
    "prev_tx = bytes.fromhex(\"69804495c439176266c473081e2f9a3cd298e60a17c8b035fd3070073b865a9c\")\n",
    "prev_index = 1\n",
    "target_address = \"tb1pxh7kypwsvxnat0z6588pufhx43r2fnqjyn846qj5kx8mgqcamvjsyn5cjg\"\n",
    "fee = 500\n",
    "# create a transaction input\n",
    "tx_in = TxIn(prev_tx, prev_index)\n",
    "# calculate the target amount\n",
    "target_amount = tx_in.value(network=\"signet\") - fee\n",
    "target_script = address_to_script_pubkey(target_address)\n",
    "# create a transaction output\n",
    "tx_out = TxOut(target_amount, target_script)\n",
    "# create a transaction, segwit=True and network=\"signet\"\n",
    "tx_obj = Tx(1, [tx_in], [tx_out], network=\"signet\", segwit=True)\n",
    "# calculate the tweaked key from your private key\n",
    "signing_key = my_private_key.tweaked_key()\n",
    "# sign the transaction using sign_p2tr_keypath\n",
    "tx_obj.sign_p2tr_keypath(0, signing_key)\n",
    "# print the serialized hex\n",
    "print(tx_obj.serialize().hex())"
   ]
  },
  {
   "cell_type": "markdown",
   "id": "454edfa6",
   "metadata": {
    "slideshow": {
     "slide_type": "slide"
    }
   },
   "source": [
    "### Exercise 28\n",
    "\n",
    "Now spend this output using the script path from the second TapLeaf send it all to <code>tb1q7kn55vf3mmd40gyj46r245lw87dc6us5n50lrg</code>\n",
    "\n",
    "Use <a href=\"https://mempool.space/signet/tx/push to broadcast your transaction\" target=\"_mempool\">Mempool Signet</a> to broadcast your transaction\n",
    "\n"
   ]
  },
  {
   "cell_type": "code",
   "execution_count": null,
   "id": "fb786518",
   "metadata": {},
   "outputs": [],
   "source": [
    "# Exercise 28\n",
    "\n",
    "from ecc import PrivateKey, S256Point\n",
    "from helper import sha256, big_endian_to_int\n",
    "from script import address_to_script_pubkey\n",
    "from taproot import TapScript, TapLeaf, TapBranch\n",
    "from tx import Tx, TxIn, TxOut\n",
    "from witness import Witness\n",
    "my_email = b\"jimmy@programmingblockchain.com\"\n",
    "my_secret = big_endian_to_int(sha256(my_email))\n",
    "my_private_key = PrivateKey(my_secret)\n",
    "internal_pubkey = S256Point.parse(bytes.fromhex(\"cd04c1bf88ca891af152fc57c36523ab59efb16b7ec07caca0cfc4a1f2051d9e\"))\n",
    "pubkey_2 = bytes.fromhex(\"331a8f6a14e1b41a6b523ddb505fbc0662a6446bd42408692497297d3474aeec\")\n",
    "pubkey_3 = bytes.fromhex(\"158a49d62c384c539a453e41a70214cfb85184954ae5c8df4b47eb74d58ff16f\")\n",
    "my_xonly = my_private_key.point.xonly()\n",
    "tap_script_1 = TapScript([my_xonly, 0xAC])\n",
    "tap_leaf_1 = TapLeaf(tap_script_1)\n",
    "tap_script_2 = TapScript([pubkey_2, 0xAC])\n",
    "tap_leaf_2 = TapLeaf(tap_script_2)\n",
    "tap_script_3 = TapScript([pubkey_3, 0xAC])\n",
    "tap_leaf_3 = TapLeaf(tap_script_3)\n",
    "prev_tx = bytes.fromhex(\"201409034581136743bd7fd0a63f659d8142f1a41031d5a3c96bbe72135ab8a2\")\n",
    "prev_index = 0\n",
    "target_address = \"tb1q7kn55vf3mmd40gyj46r245lw87dc6us5n50lrg\"\n",
    "fee = 500\n",
    "# create the two branches needed (leaf 1, leaf 2), (branch 1, leaf 3)\n",
    "tap_branch_1 = TapBranch(tap_leaf_1, tap_leaf_2)\n",
    "tap_branch_2 = TapBranch(tap_branch_1, tap_leaf_3)\n",
    "# create a transaction input\n",
    "tx_in = TxIn(prev_tx, prev_index)\n",
    "# calculate the target amount\n",
    "target_amount = tx_in.value(network=\"signet\") - fee\n",
    "# calculate the target script\n",
    "target_script = address_to_script_pubkey(target_address)\n",
    "# create a transaction output\n",
    "tx_out = TxOut(target_amount, target_script)\n",
    "# create a transaction, segwit=True and network=\"signet\"\n",
    "tx_obj = Tx(1, [tx_in], [tx_out], network=\"signet\", segwit=True)\n",
    "# create the control block with variables left over from the exercise 2 times ago\n",
    "cb = tap_branch_2.control_block(internal_pubkey, tap_leaf_1)\n",
    "tx_in.witness = Witness([tap_script_1.raw_serialize(), cb.serialize()])\n",
    "msg = tx_obj.sig_hash(0)\n",
    "sig = my_private_key.sign_schnorr(msg).serialize()\n",
    "tx_in.witness.items.insert(0, sig)\n",
    "print(tx_obj.verify())\n",
    "# print the serialized hex\n",
    "print(tx_obj.serialize().hex())"
   ]
  }
 ],
 "metadata": {},
 "nbformat": 4,
 "nbformat_minor": 5
}
